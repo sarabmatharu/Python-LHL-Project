{
 "cells": [
  {
   "cell_type": "markdown",
   "metadata": {},
   "source": [
    "Build a regression model."
   ]
  },
  {
   "cell_type": "markdown",
   "metadata": {},
   "source": [
    "You will see bunch of code block for data exploration. Model is close to the end."
   ]
  },
  {
   "cell_type": "code",
   "execution_count": 17,
   "metadata": {},
   "outputs": [
    {
     "data": {
      "text/html": [
       "<div>\n",
       "<style scoped>\n",
       "    .dataframe tbody tr th:only-of-type {\n",
       "        vertical-align: middle;\n",
       "    }\n",
       "\n",
       "    .dataframe tbody tr th {\n",
       "        vertical-align: top;\n",
       "    }\n",
       "\n",
       "    .dataframe thead th {\n",
       "        text-align: right;\n",
       "    }\n",
       "</style>\n",
       "<table border=\"1\" class=\"dataframe\">\n",
       "  <thead>\n",
       "    <tr style=\"text-align: right;\">\n",
       "      <th></th>\n",
       "      <th>Unnamed: 0</th>\n",
       "      <th>latitude</th>\n",
       "      <th>longitude</th>\n",
       "      <th>extra.normal_bikes</th>\n",
       "    </tr>\n",
       "  </thead>\n",
       "  <tbody>\n",
       "    <tr>\n",
       "      <th>0</th>\n",
       "      <td>0</td>\n",
       "      <td>55.744901</td>\n",
       "      <td>37.602018</td>\n",
       "      <td>5</td>\n",
       "    </tr>\n",
       "    <tr>\n",
       "      <th>1</th>\n",
       "      <td>1</td>\n",
       "      <td>55.633750</td>\n",
       "      <td>37.520553</td>\n",
       "      <td>2</td>\n",
       "    </tr>\n",
       "    <tr>\n",
       "      <th>2</th>\n",
       "      <td>2</td>\n",
       "      <td>55.781240</td>\n",
       "      <td>37.592390</td>\n",
       "      <td>3</td>\n",
       "    </tr>\n",
       "    <tr>\n",
       "      <th>3</th>\n",
       "      <td>3</td>\n",
       "      <td>55.781785</td>\n",
       "      <td>37.614473</td>\n",
       "      <td>6</td>\n",
       "    </tr>\n",
       "    <tr>\n",
       "      <th>4</th>\n",
       "      <td>4</td>\n",
       "      <td>55.789663</td>\n",
       "      <td>37.604464</td>\n",
       "      <td>7</td>\n",
       "    </tr>\n",
       "  </tbody>\n",
       "</table>\n",
       "</div>"
      ],
      "text/plain": [
       "   Unnamed: 0   latitude  longitude  extra.normal_bikes\n",
       "0           0  55.744901  37.602018                   5\n",
       "1           1  55.633750  37.520553                   2\n",
       "2           2  55.781240  37.592390                   3\n",
       "3           3  55.781785  37.614473                   6\n",
       "4           4  55.789663  37.604464                   7"
      ]
     },
     "execution_count": 17,
     "metadata": {},
     "output_type": "execute_result"
    }
   ],
   "source": [
    "import numpy as np\n",
    "import pandas as pd\n",
    "import statsmodels.api as sm\n",
    "\n",
    "r = pd.read_csv('bikedata.csv')\n",
    "s = pd.read_csv('venues.csv')\n",
    "\n",
    "r.head()\n"
   ]
  },
  {
   "cell_type": "code",
   "execution_count": 18,
   "metadata": {},
   "outputs": [
    {
     "data": {
      "text/html": [
       "<div>\n",
       "<style scoped>\n",
       "    .dataframe tbody tr th:only-of-type {\n",
       "        vertical-align: middle;\n",
       "    }\n",
       "\n",
       "    .dataframe tbody tr th {\n",
       "        vertical-align: top;\n",
       "    }\n",
       "\n",
       "    .dataframe thead th {\n",
       "        text-align: right;\n",
       "    }\n",
       "</style>\n",
       "<table border=\"1\" class=\"dataframe\">\n",
       "  <thead>\n",
       "    <tr style=\"text-align: right;\">\n",
       "      <th></th>\n",
       "      <th>Unnamed: 0</th>\n",
       "      <th>latitude</th>\n",
       "      <th>longitude</th>\n",
       "      <th>Venue</th>\n",
       "      <th>Venue Distance</th>\n",
       "      <th>Venue Name</th>\n",
       "    </tr>\n",
       "  </thead>\n",
       "  <tbody>\n",
       "    <tr>\n",
       "      <th>0</th>\n",
       "      <td>0</td>\n",
       "      <td>55.744901</td>\n",
       "      <td>37.602018</td>\n",
       "      <td>Парк Храма Христа Спасителя</td>\n",
       "      <td>270</td>\n",
       "      <td>Park</td>\n",
       "    </tr>\n",
       "    <tr>\n",
       "      <th>1</th>\n",
       "      <td>1</td>\n",
       "      <td>55.744901</td>\n",
       "      <td>37.602018</td>\n",
       "      <td>Детская площадка на Гоголевском бульваре</td>\n",
       "      <td>147</td>\n",
       "      <td>Playground</td>\n",
       "    </tr>\n",
       "    <tr>\n",
       "      <th>2</th>\n",
       "      <td>2</td>\n",
       "      <td>55.744901</td>\n",
       "      <td>37.602018</td>\n",
       "      <td>Преображенный дуб</td>\n",
       "      <td>251</td>\n",
       "      <td>Park</td>\n",
       "    </tr>\n",
       "    <tr>\n",
       "      <th>3</th>\n",
       "      <td>3</td>\n",
       "      <td>55.744901</td>\n",
       "      <td>37.602018</td>\n",
       "      <td>Площадка на 2ом Обыденском</td>\n",
       "      <td>262</td>\n",
       "      <td>Playground</td>\n",
       "    </tr>\n",
       "    <tr>\n",
       "      <th>4</th>\n",
       "      <td>4</td>\n",
       "      <td>55.744901</td>\n",
       "      <td>37.602018</td>\n",
       "      <td>Площадка у храма Илии Пророка, сделанная на ср...</td>\n",
       "      <td>297</td>\n",
       "      <td>Park</td>\n",
       "    </tr>\n",
       "  </tbody>\n",
       "</table>\n",
       "</div>"
      ],
      "text/plain": [
       "   Unnamed: 0   latitude  longitude  \\\n",
       "0           0  55.744901  37.602018   \n",
       "1           1  55.744901  37.602018   \n",
       "2           2  55.744901  37.602018   \n",
       "3           3  55.744901  37.602018   \n",
       "4           4  55.744901  37.602018   \n",
       "\n",
       "                                               Venue  Venue Distance  \\\n",
       "0                        Парк Храма Христа Спасителя             270   \n",
       "1           Детская площадка на Гоголевском бульваре             147   \n",
       "2                                  Преображенный дуб             251   \n",
       "3                         Площадка на 2ом Обыденском             262   \n",
       "4  Площадка у храма Илии Пророка, сделанная на ср...             297   \n",
       "\n",
       "   Venue Name  \n",
       "0        Park  \n",
       "1  Playground  \n",
       "2        Park  \n",
       "3  Playground  \n",
       "4        Park  "
      ]
     },
     "execution_count": 18,
     "metadata": {},
     "output_type": "execute_result"
    }
   ],
   "source": [
    "s.head()"
   ]
  },
  {
   "cell_type": "code",
   "execution_count": 19,
   "metadata": {},
   "outputs": [
    {
     "data": {
      "text/plain": [
       "(778, 4)"
      ]
     },
     "execution_count": 19,
     "metadata": {},
     "output_type": "execute_result"
    }
   ],
   "source": [
    "r.shape"
   ]
  },
  {
   "cell_type": "code",
   "execution_count": 20,
   "metadata": {},
   "outputs": [
    {
     "data": {
      "text/plain": [
       "(816, 6)"
      ]
     },
     "execution_count": 20,
     "metadata": {},
     "output_type": "execute_result"
    }
   ],
   "source": [
    "s.shape"
   ]
  },
  {
   "cell_type": "code",
   "execution_count": 21,
   "metadata": {},
   "outputs": [
    {
     "data": {
      "text/plain": [
       "Index(['Unnamed: 0', 'latitude', 'longitude', 'extra.normal_bikes'], dtype='object')"
      ]
     },
     "execution_count": 21,
     "metadata": {},
     "output_type": "execute_result"
    }
   ],
   "source": [
    "r.columns"
   ]
  },
  {
   "cell_type": "code",
   "execution_count": 22,
   "metadata": {},
   "outputs": [
    {
     "data": {
      "text/plain": [
       "Index(['Unnamed: 0', 'latitude', 'longitude', 'Venue', 'Venue Distance',\n",
       "       'Venue Name'],\n",
       "      dtype='object')"
      ]
     },
     "execution_count": 22,
     "metadata": {},
     "output_type": "execute_result"
    }
   ],
   "source": [
    "s.columns"
   ]
  },
  {
   "cell_type": "code",
   "execution_count": 23,
   "metadata": {},
   "outputs": [
    {
     "data": {
      "text/html": [
       "<div>\n",
       "<style scoped>\n",
       "    .dataframe tbody tr th:only-of-type {\n",
       "        vertical-align: middle;\n",
       "    }\n",
       "\n",
       "    .dataframe tbody tr th {\n",
       "        vertical-align: top;\n",
       "    }\n",
       "\n",
       "    .dataframe thead th {\n",
       "        text-align: right;\n",
       "    }\n",
       "</style>\n",
       "<table border=\"1\" class=\"dataframe\">\n",
       "  <thead>\n",
       "    <tr style=\"text-align: right;\">\n",
       "      <th></th>\n",
       "      <th>latitude</th>\n",
       "      <th>longitude</th>\n",
       "      <th>Venue Distance</th>\n",
       "      <th>Venue Name</th>\n",
       "    </tr>\n",
       "  </thead>\n",
       "  <tbody>\n",
       "    <tr>\n",
       "      <th>0</th>\n",
       "      <td>55.744901</td>\n",
       "      <td>37.602018</td>\n",
       "      <td>270</td>\n",
       "      <td>Park</td>\n",
       "    </tr>\n",
       "    <tr>\n",
       "      <th>1</th>\n",
       "      <td>55.744901</td>\n",
       "      <td>37.602018</td>\n",
       "      <td>147</td>\n",
       "      <td>Playground</td>\n",
       "    </tr>\n",
       "    <tr>\n",
       "      <th>2</th>\n",
       "      <td>55.744901</td>\n",
       "      <td>37.602018</td>\n",
       "      <td>251</td>\n",
       "      <td>Park</td>\n",
       "    </tr>\n",
       "    <tr>\n",
       "      <th>3</th>\n",
       "      <td>55.744901</td>\n",
       "      <td>37.602018</td>\n",
       "      <td>262</td>\n",
       "      <td>Playground</td>\n",
       "    </tr>\n",
       "    <tr>\n",
       "      <th>4</th>\n",
       "      <td>55.744901</td>\n",
       "      <td>37.602018</td>\n",
       "      <td>297</td>\n",
       "      <td>Park</td>\n",
       "    </tr>\n",
       "  </tbody>\n",
       "</table>\n",
       "</div>"
      ],
      "text/plain": [
       "    latitude  longitude  Venue Distance  Venue Name\n",
       "0  55.744901  37.602018             270        Park\n",
       "1  55.744901  37.602018             147  Playground\n",
       "2  55.744901  37.602018             251        Park\n",
       "3  55.744901  37.602018             262  Playground\n",
       "4  55.744901  37.602018             297        Park"
      ]
     },
     "execution_count": 23,
     "metadata": {},
     "output_type": "execute_result"
    }
   ],
   "source": [
    "s.drop(['Unnamed: 0','Venue'], axis = 1, inplace=True)\n",
    "s.head()"
   ]
  },
  {
   "cell_type": "code",
   "execution_count": 24,
   "metadata": {},
   "outputs": [
    {
     "name": "stdout",
     "output_type": "stream",
     "text": [
      "Dataset Shape: (778, 4)\n"
     ]
    },
    {
     "data": {
      "text/plain": [
       "Unnamed: 0            0\n",
       "latitude              0\n",
       "longitude             0\n",
       "extra.normal_bikes    0\n",
       "dtype: int64"
      ]
     },
     "execution_count": 24,
     "metadata": {},
     "output_type": "execute_result"
    }
   ],
   "source": [
    "print(\"Dataset Shape:\", r.shape)\n",
    "r.isnull().sum()"
   ]
  },
  {
   "cell_type": "code",
   "execution_count": 25,
   "metadata": {},
   "outputs": [
    {
     "name": "stdout",
     "output_type": "stream",
     "text": [
      "Dataset Shape: (816, 4)\n"
     ]
    },
    {
     "data": {
      "text/plain": [
       "latitude          0\n",
       "longitude         0\n",
       "Venue Distance    0\n",
       "Venue Name        0\n",
       "dtype: int64"
      ]
     },
     "execution_count": 25,
     "metadata": {},
     "output_type": "execute_result"
    }
   ],
   "source": [
    "print(\"Dataset Shape:\", s.shape)\n",
    "s.isnull().sum()"
   ]
  },
  {
   "cell_type": "code",
   "execution_count": 26,
   "metadata": {},
   "outputs": [
    {
     "name": "stdout",
     "output_type": "stream",
     "text": [
      "Number of Duplicate Records: 0\n"
     ]
    }
   ],
   "source": [
    "\n",
    "print(\"Number of Duplicate Records:\", r.duplicated().sum())"
   ]
  },
  {
   "cell_type": "code",
   "execution_count": 27,
   "metadata": {},
   "outputs": [
    {
     "name": "stdout",
     "output_type": "stream",
     "text": [
      "Number of Duplicate Records: 13\n"
     ]
    }
   ],
   "source": [
    "\n",
    "print(\"Number of Duplicate Records:\", s.duplicated().sum())"
   ]
  },
  {
   "cell_type": "code",
   "execution_count": 28,
   "metadata": {},
   "outputs": [
    {
     "data": {
      "text/html": [
       "<div>\n",
       "<style scoped>\n",
       "    .dataframe tbody tr th:only-of-type {\n",
       "        vertical-align: middle;\n",
       "    }\n",
       "\n",
       "    .dataframe tbody tr th {\n",
       "        vertical-align: top;\n",
       "    }\n",
       "\n",
       "    .dataframe thead th {\n",
       "        text-align: right;\n",
       "    }\n",
       "</style>\n",
       "<table border=\"1\" class=\"dataframe\">\n",
       "  <thead>\n",
       "    <tr style=\"text-align: right;\">\n",
       "      <th></th>\n",
       "      <th>Unnamed: 0</th>\n",
       "      <th>latitude</th>\n",
       "      <th>longitude</th>\n",
       "      <th>extra.normal_bikes</th>\n",
       "    </tr>\n",
       "  </thead>\n",
       "  <tbody>\n",
       "    <tr>\n",
       "      <th>count</th>\n",
       "      <td>778.000000</td>\n",
       "      <td>778.000000</td>\n",
       "      <td>778.000000</td>\n",
       "      <td>778.000000</td>\n",
       "    </tr>\n",
       "    <tr>\n",
       "      <th>mean</th>\n",
       "      <td>388.500000</td>\n",
       "      <td>55.748512</td>\n",
       "      <td>37.591761</td>\n",
       "      <td>7.138817</td>\n",
       "    </tr>\n",
       "    <tr>\n",
       "      <th>std</th>\n",
       "      <td>224.733546</td>\n",
       "      <td>0.065969</td>\n",
       "      <td>0.100344</td>\n",
       "      <td>5.270179</td>\n",
       "    </tr>\n",
       "    <tr>\n",
       "      <th>min</th>\n",
       "      <td>0.000000</td>\n",
       "      <td>55.465606</td>\n",
       "      <td>37.292854</td>\n",
       "      <td>0.000000</td>\n",
       "    </tr>\n",
       "    <tr>\n",
       "      <th>25%</th>\n",
       "      <td>194.250000</td>\n",
       "      <td>55.708235</td>\n",
       "      <td>37.538881</td>\n",
       "      <td>3.000000</td>\n",
       "    </tr>\n",
       "    <tr>\n",
       "      <th>50%</th>\n",
       "      <td>388.500000</td>\n",
       "      <td>55.751555</td>\n",
       "      <td>37.591370</td>\n",
       "      <td>7.000000</td>\n",
       "    </tr>\n",
       "    <tr>\n",
       "      <th>75%</th>\n",
       "      <td>582.750000</td>\n",
       "      <td>55.789575</td>\n",
       "      <td>37.639930</td>\n",
       "      <td>10.000000</td>\n",
       "    </tr>\n",
       "    <tr>\n",
       "      <th>max</th>\n",
       "      <td>777.000000</td>\n",
       "      <td>55.898990</td>\n",
       "      <td>38.035340</td>\n",
       "      <td>40.000000</td>\n",
       "    </tr>\n",
       "  </tbody>\n",
       "</table>\n",
       "</div>"
      ],
      "text/plain": [
       "       Unnamed: 0    latitude   longitude  extra.normal_bikes\n",
       "count  778.000000  778.000000  778.000000          778.000000\n",
       "mean   388.500000   55.748512   37.591761            7.138817\n",
       "std    224.733546    0.065969    0.100344            5.270179\n",
       "min      0.000000   55.465606   37.292854            0.000000\n",
       "25%    194.250000   55.708235   37.538881            3.000000\n",
       "50%    388.500000   55.751555   37.591370            7.000000\n",
       "75%    582.750000   55.789575   37.639930           10.000000\n",
       "max    777.000000   55.898990   38.035340           40.000000"
      ]
     },
     "execution_count": 28,
     "metadata": {},
     "output_type": "execute_result"
    }
   ],
   "source": [
    "r.describe()"
   ]
  },
  {
   "cell_type": "code",
   "execution_count": 29,
   "metadata": {},
   "outputs": [
    {
     "data": {
      "text/html": [
       "<div>\n",
       "<style scoped>\n",
       "    .dataframe tbody tr th:only-of-type {\n",
       "        vertical-align: middle;\n",
       "    }\n",
       "\n",
       "    .dataframe tbody tr th {\n",
       "        vertical-align: top;\n",
       "    }\n",
       "\n",
       "    .dataframe thead th {\n",
       "        text-align: right;\n",
       "    }\n",
       "</style>\n",
       "<table border=\"1\" class=\"dataframe\">\n",
       "  <thead>\n",
       "    <tr style=\"text-align: right;\">\n",
       "      <th></th>\n",
       "      <th>latitude</th>\n",
       "      <th>longitude</th>\n",
       "      <th>Venue Distance</th>\n",
       "    </tr>\n",
       "  </thead>\n",
       "  <tbody>\n",
       "    <tr>\n",
       "      <th>count</th>\n",
       "      <td>816.000000</td>\n",
       "      <td>816.000000</td>\n",
       "      <td>816.000000</td>\n",
       "    </tr>\n",
       "    <tr>\n",
       "      <th>mean</th>\n",
       "      <td>55.743929</td>\n",
       "      <td>37.599642</td>\n",
       "      <td>339.712010</td>\n",
       "    </tr>\n",
       "    <tr>\n",
       "      <th>std</th>\n",
       "      <td>0.045130</td>\n",
       "      <td>0.032352</td>\n",
       "      <td>141.680706</td>\n",
       "    </tr>\n",
       "    <tr>\n",
       "      <th>min</th>\n",
       "      <td>55.633750</td>\n",
       "      <td>37.520553</td>\n",
       "      <td>26.000000</td>\n",
       "    </tr>\n",
       "    <tr>\n",
       "      <th>25%</th>\n",
       "      <td>55.724242</td>\n",
       "      <td>37.580778</td>\n",
       "      <td>259.000000</td>\n",
       "    </tr>\n",
       "    <tr>\n",
       "      <th>50%</th>\n",
       "      <td>55.760381</td>\n",
       "      <td>37.604464</td>\n",
       "      <td>352.000000</td>\n",
       "    </tr>\n",
       "    <tr>\n",
       "      <th>75%</th>\n",
       "      <td>55.780405</td>\n",
       "      <td>37.629017</td>\n",
       "      <td>434.000000</td>\n",
       "    </tr>\n",
       "    <tr>\n",
       "      <th>max</th>\n",
       "      <td>55.837238</td>\n",
       "      <td>37.659137</td>\n",
       "      <td>2759.000000</td>\n",
       "    </tr>\n",
       "  </tbody>\n",
       "</table>\n",
       "</div>"
      ],
      "text/plain": [
       "         latitude   longitude  Venue Distance\n",
       "count  816.000000  816.000000      816.000000\n",
       "mean    55.743929   37.599642      339.712010\n",
       "std      0.045130    0.032352      141.680706\n",
       "min     55.633750   37.520553       26.000000\n",
       "25%     55.724242   37.580778      259.000000\n",
       "50%     55.760381   37.604464      352.000000\n",
       "75%     55.780405   37.629017      434.000000\n",
       "max     55.837238   37.659137     2759.000000"
      ]
     },
     "execution_count": 29,
     "metadata": {},
     "output_type": "execute_result"
    }
   ],
   "source": [
    "s.describe()"
   ]
  },
  {
   "cell_type": "code",
   "execution_count": 30,
   "metadata": {},
   "outputs": [
    {
     "name": "stdout",
     "output_type": "stream",
     "text": [
      "<class 'pandas.core.frame.DataFrame'>\n",
      "RangeIndex: 778 entries, 0 to 777\n",
      "Data columns (total 4 columns):\n",
      " #   Column              Non-Null Count  Dtype  \n",
      "---  ------              --------------  -----  \n",
      " 0   Unnamed: 0          778 non-null    int64  \n",
      " 1   latitude            778 non-null    float64\n",
      " 2   longitude           778 non-null    float64\n",
      " 3   extra.normal_bikes  778 non-null    int64  \n",
      "dtypes: float64(2), int64(2)\n",
      "memory usage: 24.4 KB\n"
     ]
    }
   ],
   "source": [
    "r.info()"
   ]
  },
  {
   "cell_type": "code",
   "execution_count": 31,
   "metadata": {},
   "outputs": [
    {
     "name": "stdout",
     "output_type": "stream",
     "text": [
      "<class 'pandas.core.frame.DataFrame'>\n",
      "RangeIndex: 816 entries, 0 to 815\n",
      "Data columns (total 4 columns):\n",
      " #   Column          Non-Null Count  Dtype  \n",
      "---  ------          --------------  -----  \n",
      " 0   latitude        816 non-null    float64\n",
      " 1   longitude       816 non-null    float64\n",
      " 2   Venue Distance  816 non-null    int64  \n",
      " 3   Venue Name      816 non-null    object \n",
      "dtypes: float64(2), int64(1), object(1)\n",
      "memory usage: 25.6+ KB\n"
     ]
    }
   ],
   "source": [
    "s.info()"
   ]
  },
  {
   "cell_type": "code",
   "execution_count": 32,
   "metadata": {},
   "outputs": [
    {
     "data": {
      "text/plain": [
       "Unnamed: 0  latitude   longitude  extra.normal_bikes\n",
       "0           55.744901  37.602018  5                     1\n",
       "534         55.735005  37.656280  8                     1\n",
       "512         55.756850  37.524930  7                     1\n",
       "513         55.818630  37.637230  9                     1\n",
       "514         55.719500  37.463620  7                     1\n",
       "                                                       ..\n",
       "262         55.758471  37.614207  10                    1\n",
       "263         55.776742  37.506187  13                    1\n",
       "264         55.737193  37.568374  9                     1\n",
       "265         55.768817  37.684929  0                     1\n",
       "777         55.721770  37.561740  13                    1\n",
       "Length: 778, dtype: int64"
      ]
     },
     "execution_count": 32,
     "metadata": {},
     "output_type": "execute_result"
    }
   ],
   "source": [
    "r.value_counts()"
   ]
  },
  {
   "cell_type": "code",
   "execution_count": 33,
   "metadata": {},
   "outputs": [
    {
     "data": {
      "text/plain": [
       "latitude   longitude  Venue Distance  Venue Name\n",
       "55.773194  37.614186  398             Park          3\n",
       "55.688036  37.572725  410             Playground    2\n",
       "55.726481  37.580778  285             Playground    2\n",
       "55.766711  37.609489  253             Playground    2\n",
       "55.779107  37.622515  357             Park          2\n",
       "                                                   ..\n",
       "55.727509  37.583821  440             Playground    1\n",
       "                      458             Dog Park      1\n",
       "                      477             Playground    1\n",
       "55.731139  37.569297  227             Playground    1\n",
       "55.837238  37.636545  479             Playground    1\n",
       "Length: 803, dtype: int64"
      ]
     },
     "execution_count": 33,
     "metadata": {},
     "output_type": "execute_result"
    }
   ],
   "source": [
    "s.value_counts()"
   ]
  },
  {
   "cell_type": "code",
   "execution_count": 34,
   "metadata": {},
   "outputs": [
    {
     "name": "stdout",
     "output_type": "stream",
     "text": [
      "0.03834294161812968\n"
     ]
    }
   ],
   "source": [
    "from sklearn import linear_model, datasets\n",
    "from scipy import stats\n",
    "from sklearn import linear_model\n",
    "from sklearn.linear_model import LinearRegression\n",
    "\n",
    "#Simple Linear Regression Object\n",
    "lr = LinearRegression()\n",
    "df = pd.read_csv('allstations.csv')\n",
    "\n",
    "#Fitting model\n",
    "x = df['extra.normal_bikes'].values.reshape(-1,1)\n",
    "X=np.concatenate([x,x**2],axis=1)\n",
    "Y = df['Venue Distance'].values.reshape(-1,1)\n",
    "lr.fit(X,Y)\n",
    "\n",
    "Y_pred = lr.predict(X)\n",
    "\n",
    "#Evaluating the model fit\n",
    "score = lr.score(X,Y)\n",
    "print(score)\n",
    "\n",
    "## model = linear_model.fit()\n",
    "## print_model = model.summary()"
   ]
  },
  {
   "cell_type": "code",
   "execution_count": 35,
   "metadata": {},
   "outputs": [
    {
     "data": {
      "text/plain": [
       "<Axes: >"
      ]
     },
     "execution_count": 35,
     "metadata": {},
     "output_type": "execute_result"
    },
    {
     "data": {
      "image/png": "[encoded data removed]",
      "text/plain": [
       "<Figure size 640x480 with 1 Axes>"
      ]
     },
     "metadata": {},
     "output_type": "display_data"
    }
   ],
   "source": [
    "import seaborn as sb\n",
    "\n",
    "\n",
    "sb.scatterplot(x=x.flatten(),y=Y.flatten())\n",
    "sb.lineplot(x=x.flatten(),y=Y_pred.flatten())"
   ]
  },
  {
   "cell_type": "markdown",
   "metadata": {},
   "source": [
    "Provide model output and an interpretation of the results. "
   ]
  },
  {
   "cell_type": "markdown",
   "metadata": {},
   "source": [
    "There can be so many diffrent scenarios when we are looking at the model output. We can try to predict numnber of bikes based on the number of parks nearby. May be in some cases there is no corelation between those two. May ne people are bringing cars close to park then renting bikes. Even how many bikes are available to use also depends on day & time of the day as well. "
   ]
  },
  {
   "cell_type": "code",
   "execution_count": null,
   "metadata": {},
   "outputs": [],
   "source": [
    "import statsmodels.api as sm\n",
    "\n",
    "r = sm.add_constant(r) # adding a constant\n",
    "lin_reg = sm.OLS(s,r['longitude'])\n",
    "\n",
    "model = lin_reg.fit()\n",
    "print_model = model.summary()\n",
    "print(print_model)"
   ]
  },
  {
   "cell_type": "markdown",
   "metadata": {},
   "source": [
    "# Stretch"
   ]
  },
  {
   "cell_type": "markdown",
   "metadata": {},
   "source": [
    "How can you turn the regression model into a classification model?"
   ]
  },
  {
   "cell_type": "code",
   "execution_count": null,
   "metadata": {},
   "outputs": [],
   "source": []
  }
 ],
 "metadata": {
  "kernelspec": {
   "display_name": "Python 3",
   "language": "python",
   "name": "python3"
  },
  "language_info": {
   "codemirror_mode": {
    "name": "ipython",
    "version": 3
   },
   "file_extension": ".py",
   "mimetype": "text/x-python",
   "name": "python",
   "nbconvert_exporter": "python",
   "pygments_lexer": "ipython3",
   "version": "3.11.3"
  }
 },
 "nbformat": 4,
 "nbformat_minor": 4
}
