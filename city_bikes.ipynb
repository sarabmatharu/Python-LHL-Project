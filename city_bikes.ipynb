{
 "cells": [
  {
   "cell_type": "markdown",
   "metadata": {},
   "source": [
    "# CityBikes"
   ]
  },
  {
   "cell_type": "markdown",
   "metadata": {},
   "source": [
    "Send a request to CityBikes for the city of your choice. "
   ]
  },
  {
   "cell_type": "code",
   "execution_count": 1,
   "metadata": {},
   "outputs": [
    {
     "data": {
      "text/plain": [
       "[{'company': None,\n",
       "  'ebikes': True,\n",
       "  'gbfs_href': 'https://velib-metropole-opendata.smoove.pro/opendata/Velib_Metropole/gbfs.json',\n",
       "  'href': '/v2/networks/velib',\n",
       "  'id': 'velib',\n",
       "  'license': {'name': 'OPEN LICENCE 2.0',\n",
       "   'url': 'etalab.gouv.fr/wp-content/uploads/2018/11/open-licence.pdf'},\n",
       "  'location': {'city': 'Paris',\n",
       "   'country': 'FR',\n",
       "   'latitude': 48.856614,\n",
       "   'longitude': 2.3522219},\n",
       "  'name': \"Vélib' Métropole\"}]"
      ]
     },
     "execution_count": 1,
     "metadata": {},
     "output_type": "execute_result"
    }
   ],
   "source": [
    "import requests\n",
    "import pandas as pd\n",
    "import plotly.express as px\n",
    "import datetime\n",
    "city_bike_networks = requests.get(\"http://api.citybik.es/v2/networks\").json()\n",
    "## URL = \"http://api.citybik.es/v2/networks\"\n",
    "## location = \"Las Vegas\"\n",
    "## PARAMS = {'address':location}\n",
    "## r = requests.get(url = URL, params = PARAMS)\n",
    "## data = r.json()\n",
    "def get_city_data(city):\n",
    "    city_bike_networks = requests.get(\"http://api.citybik.es/v2/networks\").json()\n",
    "\n",
    "    list_of_dicts = []\n",
    "    for city_bike_dict in city_bike_networks['networks']:\n",
    "        new_city = city_bike_dict['location']['city']\n",
    "        if new_city.lower() == city.lower():\n",
    "            list_of_dicts.append(city_bike_dict)\n",
    "\n",
    "    return list_of_dicts\n",
    "\n",
    "get_city_data(\"Paris\")\n"
   ]
  },
  {
   "cell_type": "markdown",
   "metadata": {},
   "source": [
    "Parse through the response to get the details you want for the bike stations in that city (latitude, longitude, number of bikes). "
   ]
  },
  {
   "cell_type": "code",
   "execution_count": 8,
   "metadata": {},
   "outputs": [
    {
     "name": "stdout",
     "output_type": "stream",
     "text": [
      "{'networks': [{'id': 'velobike-moscow', 'name': 'Velobike'}, {'id': 'baerum-bysykkel', 'name': 'Bysykkel'}, {'id': 'bicincitta-siena', 'name': 'Bicincittà'}, {'id': 'cyclopolis-maroussi', 'name': 'Cyclopolis'}, {'id': 'cyclopolis-nafplio', 'name': 'Cyclopolis'}, {'id': 'bicincitta-parco-dei-colli-di-bergamo', 'name': 'Bicincittà'}, {'id': 'cyclopolis-aigialeia', 'name': 'Cyclopolis'}, {'id': 'cyclopolis-marathon', 'name': 'Cyclopolis'}, {'id': 'bicincitta-mantova', 'name': 'Bicincittà'}, {'id': 'cyclopolis-neasmyrni', 'name': 'Cyclopolis'}, {'id': 'cyclopolis-moschatotavros', 'name': 'Cyclopolis'}, {'id': 'cyclopolis-arxaiaolympia', 'name': 'Cyclopolis'}, {'id': 'cyclopolis-kiato', 'name': 'Cyclopolis'}, {'id': 'bicincitta-assemini', 'name': 'Bicincittà'}, {'id': 'cyclopolis-rhodes', 'name': 'Cyclopolis'}, {'id': 'cyclopolis-florina', 'name': 'Cyclopolis'}, {'id': 'bicincitta-tortoli', 'name': 'Bicincittà'}, {'id': 'cyclopolis-limnos', 'name': 'Cyclopolis'}, {'id': 'bicincitta-gaeta', 'name': 'Bicincittà'}, {'id': 'bicincitta-borgarello', 'name': 'Bicincittà'}, {'id': 'bicincitta-pizzighettone-formigara', 'name': 'Bicincittà'}, {'id': 'cork', 'name': 'TFI Bikes'}, {'id': 'limerick', 'name': 'TFI Bikes'}, {'id': 'punpunbikeshare', 'name': 'Pun Pun Bike Share'}, {'id': 'galway', 'name': 'TFI Bikes'}, {'id': 'bicincitta-montecatini-terme', 'name': 'Bicincittà'}, {'id': 'bikeu-bra', 'name': 'Bydgoski rower aglomeracyjny'}, {'id': 'santander-cycles', 'name': 'Santander Cycles'}, {'id': 'we-cycle', 'name': 'WE-cycle'}, {'id': 'bicincitta-carrara', 'name': 'Bicincittà'}, {'id': 'stadtrad-hamburg', 'name': \"StadtRAD Hamburg'\"}, {'id': 'tigullionbike', 'name': 'Tigullionbike'}, {'id': 'arbike', 'name': 'ARbike'}, {'id': 'velobike', 'name': 'Velobike'}, {'id': 'velib', 'name': \"Vélib' Métropole\"}, {'id': 'ascoli-piceno', 'name': 'Ascoli Piceno'}, {'id': 'bigi', 'name': 'BiGi'}, {'id': 'girocleta', 'name': 'Girocleta'}, {'id': 'alba', 'name': 'Alba'}, {'id': 'bikemi', 'name': 'BikeMi'}, {'id': 'biella', 'name': 'Biella'}, {'id': 'chivasso', 'name': 'Chivasso'}, {'id': 'bizi', 'name': 'Bizi'}, {'id': 'ecobici', 'name': 'EcoBici'}, {'id': 'bici-in-busto', 'name': 'Bici in Busto'}, {'id': 'velo-antwerpen', 'name': 'Velo Antwerpen'}, {'id': 'cuneo', 'name': 'Cuneo'}, {'id': 'malmobybike', 'name': 'Malmö by bike'}, {'id': 'bicimad', 'name': 'BiciMAD'}, {'id': 'easybike-didymoteicho', 'name': 'EasyBike'}, {'id': 'free-bike-sharing', 'name': 'FRee Bike sharing'}, {'id': 'easybike-glyfada', 'name': 'EasyBike'}, {'id': 'easybike-igoumenitsa', 'name': 'EasyBike'}, {'id': 'lecce', 'name': 'lecce'}, {'id': 'easybike-ioannina', 'name': 'EasyBike'}, {'id': 'easybike-karditsa', 'name': 'EasyBike'}, {'id': 'manerba-in-bici', 'name': 'Manerba in Bici'}, {'id': 'easybike-kavala', 'name': 'EasyBike'}, {'id': 'easybike-kinouria', 'name': 'EasyBike'}, {'id': 'easybike-komotini', 'name': 'EasyBike'}, {'id': 'easybike-patra', 'name': 'EasyBike'}, {'id': 'mar-e-bici', 'name': 'Mar e Bici'}, {'id': 'easybike-rethymno', 'name': 'EasyBike'}, {'id': 'easybike-samos', 'name': 'EasyBike'}, {'id': 'novara', 'name': 'Novara'}, {'id': 'easybike-nicosia', 'name': 'EasyBike'}, {'id': 'easybike-mani', 'name': 'EasyBike'}, {'id': 'easybike-irakleio', 'name': 'EasyBike'}, {'id': 'thessbike', 'name': 'ThessBike'}, {'id': 'athens-bikes', 'name': 'AthensBikes'}, {'id': 'goodbike', 'name': 'GoodBike'}, {'id': 'ciclosampa', 'name': 'CicloSampa'}, {'id': 'bicicorunha', 'name': 'Bicicoruña'}, {'id': 'bici-ferrol-terra', 'name': 'BiciFerrolTerra'}, {'id': 'mimuovofe', 'name': 'Mi Muovo in Bici'}, {'id': 'bixi-montreal', 'name': 'Bixi'}, {'id': 'parma', 'name': 'Mi Muovo in Bici'}, {'id': 'bixi-toronto', 'name': 'Bike Share Toronto'}, {'id': 'sobi-hamilton', 'name': 'SoBi'}, {'id': 'pavia-in-bici', 'name': 'Pavia in bici'}, {'id': 'bici-perugia', 'name': 'Bici Perugia'}, {'id': 'austin', 'name': 'Austin B-cycle'}, {'id': 'bike-chattanooga', 'name': 'Bike Chattanooga'}, {'id': 'piacenza', 'name': 'Mi Muovo in Bici'}, {'id': 'pinerolo', 'name': 'Pinerolo'}, {'id': 'biketown', 'name': 'BIKETOWN'}, {'id': 'reggio-emilia', 'name': 'Mi Muovo in Bici'}, {'id': 'boulder', 'name': 'Boulder B-cycle'}, {'id': 'rimini', 'name': 'Mi Muovo in Bici'}, {'id': 'broward', 'name': 'Broward B-cycle'}, {'id': 'bublr-bikes', 'name': 'Bublr Bikes'}, {'id': 'reddy-bike-share', 'name': 'Reddy Bike Share'}, {'id': 'capital-bikeshare', 'name': 'Capital BikeShare'}, {'id': 'charlotte', 'name': 'Charlotte B-cycle'}, {'id': 'saluzzo', 'name': 'Saluzzo'}, {'id': 'cincy-red-bike', 'name': 'Cincy Red Bike'}, {'id': 'savigliano', 'name': 'Savigliano'}, {'id': 'citi-bike-nyc', 'name': 'Citi Bike'}, {'id': 'terni', 'name': 'Terni'}, {'id': 'cogo', 'name': 'CoGo'}, {'id': 'denver', 'name': 'Lyft'}, {'id': 'divvy', 'name': 'Divvy'}, {'id': 'tirano-in-bici', 'name': 'Tirano in Bici'}, {'id': 'elpaso', 'name': 'El Paso B-cycle'}, {'id': 'fortworth', 'name': 'Fort Worth Bike Sharing'}, {'id': 'udine', 'name': 'Udine'}, {'id': 'greenbikeslc', 'name': 'GREENbike'}, {'id': 'omaha', 'name': 'Heartland B-cycle'}, {'id': 'houston', 'name': 'Houston B-cycle'}, {'id': 'blue-bikes', 'name': 'Blue Bikes'}, {'id': 'ustica', 'name': 'Ustica'}, {'id': 'indego', 'name': 'Indego'}, {'id': 'indiana-pacers-bikeshare', 'name': 'Indiana Pacers Bikeshare'}, {'id': 'bici-co', 'name': 'BICI&CO'}, {'id': 'madison', 'name': 'B-cycle'}, {'id': 'metro-bike-share', 'name': 'Metro Bike Share'}, {'id': 'nice-ride', 'name': 'Nice Ride'}, {'id': 'speziainbici', 'name': 'Speziainbici'}, {'id': 'sanantonio', 'name': 'SWell Cycle'}, {'id': 'venezia', 'name': 'Venezia'}, {'id': 'sobi-long-beach', 'name': 'SoBi'}, {'id': 'to-bike', 'name': '[TO]BIKE'}, {'id': 'relay-atlanta', 'name': 'HOPR'}, {'id': 'bikerecife', 'name': 'BikeRecife'}, {'id': 'bikesampa', 'name': 'BikeSampa'}, {'id': 'bikerio', 'name': 'BikeRio'}, {'id': 'bikesalvador', 'name': 'BikeSalvador'}, {'id': 'bikepoa', 'name': 'BikePOA'}, {'id': 'mibici-guadalajara', 'name': 'MIBICI'}, {'id': 'libelo', 'name': 'Libélo'}, {'id': 'bikesantiago', 'name': 'BikeSantiago'}, {'id': 'oslo-bysykkel', 'name': 'Bysykkel'}, {'id': 'bergen-bysykkel', 'name': 'Bysykkel'}, {'id': 'trondheim-bysykkel', 'name': 'Bysykkel'}, {'id': 'le-velo-star', 'name': 'LE vélo Star'}, {'id': 'v3-bordeaux', 'name': 'V³'}, {'id': 'vlille', 'name': \"V'Lille\"}, {'id': 'idecycle', 'name': 'IDEcycle'}, {'id': 'ciclopi', 'name': 'Ciclopi'}, {'id': 'muybici', 'name': 'MuyBici'}, {'id': 'vaibike', 'name': 'VaiBike'}, {'id': 'cagliari', 'name': 'Cagliari'}, {'id': 'ecobici-buenos-aires', 'name': 'Ecobici'}, {'id': 'gira', 'name': 'Gira'}, {'id': 'gimme-bike', 'name': 'Gimme Bike'}, {'id': 'velo', 'name': 'Vélô'}, {'id': 'veloh', 'name': 'Veloh'}, {'id': 'valenbisi', 'name': 'Valenbisi'}, {'id': 'sellero', 'name': 'Sellero'}, {'id': 'lundahoj', 'name': 'Lundahoj'}, {'id': 'ugento', 'name': 'Ugento'}, {'id': 'tusbic', 'name': 'Tusbic'}, {'id': 'velam', 'name': 'Vélam'}, {'id': 'bysykkel-lillestrom', 'name': 'Bysykkel'}, {'id': 'velocite-mulhouse', 'name': 'VéloCité'}, {'id': 'prata-camportaccio', 'name': 'Prata Camportaccio'}, {'id': 'velov', 'name': \"Vélo'V\"}, {'id': 'bicikelj', 'name': 'Bicikelj'}, {'id': 'civitavecchia', 'name': 'Civitavecchia'}, {'id': 'sevici', 'name': 'Sevici'}, {'id': 'longanoinbici', 'name': 'LonganoinBici'}, {'id': 'li-bia-velo', 'name': 'Li bia velo'}, {'id': 'velostanlib', 'name': \"vélOstan'lib\"}, {'id': 'cristolib', 'name': 'Cristolib'}, {'id': 'villo', 'name': 'villo'}, {'id': 'cassano-d-adda', 'name': \"Cassano d'Adda\"}, {'id': 'velo2', 'name': 'Velo2'}, {'id': 'vilnius-cyclocity', 'name': 'Cyclocity'}, {'id': 'toyama-cyclocity', 'name': 'cyclocity'}, {'id': 'bianzone-in-bici', 'name': 'Bianzone in Bici'}, {'id': 'le-velo', 'name': 'LeVélo'}, {'id': 'bicloo', 'name': 'Bicloo'}, {'id': 'velocite-besancon', 'name': 'VéloCité'}, {'id': 'rietinbici', 'name': 'Rietinbici'}, {'id': 'dublinbikes', 'name': 'dublinbikes'}, {'id': 'bicipalma', 'name': 'Bicipalma'}, {'id': 'adcb-bikeshare', 'name': 'ADCB Bikeshare'}, {'id': 'castellucchio', 'name': 'Castellucchio'}, {'id': 'velobleu', 'name': 'Vélo Bleu'}, {'id': 'notoinbici', 'name': 'NotoinBici'}, {'id': 'enna', 'name': 'Enna'}, {'id': 'pordenone', 'name': 'Pordenone'}, {'id': 'vel-in', 'name': \"Vél'in\"}, {'id': 'carbonia', 'name': 'Carbonia'}, {'id': 'clujbike', 'name': 'Cluj Bike'}, {'id': 'integrabike', 'name': 'Integrabike'}, {'id': 'scegli-in-bici', 'name': 'Scegli in Bici'}, {'id': 'rivibike', 'name': 'RiviBike'}, {'id': 'e-motion-trento', 'name': 'e.motion'}, {'id': 'dukebike', 'name': 'DukeBike'}, {'id': 'bicing', 'name': 'Bicing'}, {'id': 'baksi-antalya', 'name': 'Baksi'}, {'id': 'baksi-bisim', 'name': 'Baksi'}, {'id': 'e-motion-rovereto', 'name': 'e.motion'}, {'id': 'baksi-istanbul', 'name': 'Isbike'}, {'id': 'baksi-kobis', 'name': 'Baksi'}, {'id': 'citybikes-helsinki', 'name': 'City bikes'}, {'id': 'monopoli-bike', 'name': 'Monopoli BIKE'}, {'id': 'foli', 'name': 'Fölläri bikes'}, {'id': 'bicimia', 'name': 'bicimia'}, {'id': 'telofun', 'name': 'Tel-O-Fun'}, {'id': 'andria', 'name': 'Andria in Bici'}, {'id': 'whitebikes', 'name': 'WhiteBikes'}, {'id': 'slovnaft-bajk', 'name': 'Slovnaft BAjk'}, {'id': 'cykl', 'name': 'Cykl'}, {'id': 'bicyklezadobreskutky', 'name': 'Bicykle za dobré skutky'}, {'id': 'socialbicycles-wavelo', 'name': 'Wavelo'}, {'id': 'bicinquartucciu', 'name': 'BicinQuartucciu'}, {'id': 'encicla', 'name': 'EnCicla'}, {'id': 'olbia-bike', 'name': 'Olbia Bike'}, {'id': 'mobibikes', 'name': 'Mobi'}, {'id': 'savona', 'name': 'Savona'}, {'id': 'c-velo', 'name': 'C.vélo'}, {'id': 'velivert', 'name': 'VéliVert'}, {'id': 'brindisi', 'name': 'BrindisiByBike'}, {'id': 'velopop', 'name': 'Vélopop'}, {'id': 'batumvelo', 'name': 'Batumvelo'}, {'id': 'tradate', 'name': 'Tradate'}, {'id': 'bikebh', 'name': 'BikeBH'}, {'id': 'bikepetrolina', 'name': 'BikePetrolina'}, {'id': 'jesinbici', 'name': 'JesinBici'}, {'id': 'nbici', 'name': 'nbici'}, {'id': 'bikebrasilia', 'name': 'BikeBrasilia'}, {'id': 'debikegoiania', 'name': 'GynDebike'}, {'id': 'treviso', 'name': 'Treviso'}, {'id': 'bicicletar', 'name': 'Bicicletar'}, {'id': 'cajubike', 'name': 'CajuBike'}, {'id': 'bikebelem', 'name': 'Bike Belém'}, {'id': 'sondrio', 'name': 'Sondrio'}, {'id': 'bikesantos', 'name': 'BikeSantos'}, {'id': 'vercelli', 'name': 'Vercelli'}, {'id': 'portofino-park-and-bike', 'name': 'Portofino Park and Bike'}, {'id': 'mibicitubici', 'name': 'Mi bici tu bici'}, {'id': 'meglio-in-bici', 'name': 'Meglio in Bici'}, {'id': 'desmoines', 'name': 'Des Moines B-cycle'}, {'id': 'ossola', 'name': \"Comunità Montana Valli dell'Ossola\"}, {'id': 'greenville', 'name': 'Greenville B-cycle'}, {'id': 'bicincitta-mezzolombardo', 'name': 'Bicincittà'}, {'id': 'bicincitta-scafati', 'name': 'Bicincittà'}, {'id': 'bicincitta-livorno', 'name': 'Bicincittà'}, {'id': 'bicincitta-forli', 'name': 'Mi Muovo in Bici'}, {'id': 'bicincitta-rivarolo-canavese', 'name': 'Bicincittà'}, {'id': 'bicincitta-monserrato', 'name': 'Bicincittà'}, {'id': 'bicincitta-mezzocorona', 'name': 'Bicincittà'}, {'id': 'bicincitta-san-lazzaro-di-savena', 'name': 'Mi Muovo in Bici'}, {'id': 'bicincitta-san-teodoro', 'name': 'Bicincittà'}, {'id': 'bicincitta-parco-molentargius-saline', 'name': 'Bicincittà'}, {'id': 'parkinbici', 'name': 'Parkinbici'}, {'id': 'bicincitta-gallipoli', 'name': 'Bicincittà'}, {'id': 'bicincitta-castel-guelfo-the-style-outlets', 'name': 'Bicincittà'}, {'id': 'bicincitta-san-michele-alladige', 'name': 'Bicincittà'}, {'id': 'bicincitta-modena', 'name': 'Mi Muovo in bici'}, {'id': 'bicincitta-brancaleone', 'name': 'Bicincittà'}, {'id': 'bicincitta-scandiano', 'name': 'Mi Muovo in Bici'}, {'id': 'bicincitta-elmas', 'name': 'Bicincittà'}, {'id': 'bicincitta-tivat', 'name': 'Bicincittà'}, {'id': 'bicincitta-acquaviva-delle-fonti', 'name': 'Bicincittà'}, {'id': 'we-love-bike', 'name': 'We Love bike'}, {'id': 'bicincitta-acquarica-del-capo', 'name': 'Bicincittà'}, {'id': 'bicincitta-vicolungo-the-style-outlets', 'name': 'Bicincittà'}, {'id': 'bicincitta-porto-torres', 'name': 'Bicincittà'}, {'id': 'bicincitta-cisterna-di-latina', 'name': 'Bicincittà'}, {'id': 'bicincitta-casaletto-spartano', 'name': 'Bicincittà'}, {'id': 'bicincitta-selargius', 'name': 'Bicincittà'}, {'id': 'bicincitta-monza', 'name': 'Bicincittà'}, {'id': 'bicincitta-morigerati', 'name': 'Bicincittà'}, {'id': 'bicincitta-san-donato-milanese', 'name': 'Bicincittà'}, {'id': 'bicincitta-ente-parco-del-circeo', 'name': 'Bicincittà'}, {'id': 'bicincitta-cesena', 'name': 'Mi Muovo in bici'}, {'id': 'lecco', 'name': 'Bicincittà'}, {'id': 'bicincitta-alghero', 'name': 'Bicincittà'}, {'id': 'bicincitta-san-giovanni-in-persiceto', 'name': 'Mi Muovo in Bici'}, {'id': 'bicincitta-ente-parco-san-rossore', 'name': 'Bicincittà'}, {'id': 'bicincitta-treviglio', 'name': 'Bicincittà'}, {'id': 'bicincitta-lavis', 'name': 'Bicincittà'}, {'id': 'bicincitta-ente-parco-di-montemarcello-magra', 'name': 'Bicincittà'}, {'id': 'bicischio', 'name': 'BiciSchio'}, {'id': 'bicincitta-imola', 'name': 'Mi Muovo in bici'}, {'id': 'nextbike-leipzig', 'name': 'Nextbike'}, {'id': 'nextbike-wiesbaden', 'name': 'Nextbike'}, {'id': 'visa-frankfurt', 'name': 'VISA'}, {'id': 'kvb-rad-koln', 'name': 'KVB Rad'}, {'id': 'facherrad-karlsruhe', 'name': 'Fächerrad'}, {'id': 'burgenland-neusiedler-see', 'name': 'Burgenland'}, {'id': 'nextbike-dusseldorf', 'name': 'Nextbike'}, {'id': 'nextbike-stpolten', 'name': 'Nextbike'}, {'id': 'nextbike-modling', 'name': 'Nextbike'}, {'id': 'nextbike-sursee', 'name': 'Nextbike'}, {'id': 'nextbike-luzern', 'name': 'Nextbike'}, {'id': 'sixt-riga', 'name': 'SiXT'}, {'id': 'metropolradruhr-dortmund', 'name': 'metropolradruhr'}, {'id': 'metropolradruhr-bochum', 'name': 'metropolradruhr'}, {'id': 'metropolradruhr-bottrop', 'name': 'metropolradruhr'}, {'id': 'metropolradruhr-duisburg', 'name': 'metropolradruhr'}, {'id': 'metropolradruhr-essen', 'name': 'metropolradruhr'}, {'id': 'metropolradruhr-gelsenkirchen', 'name': 'metropolradruhr'}, {'id': 'metropolradruhr-hamm', 'name': 'metropolradruhr'}, {'id': 'metropolradruhr-herne', 'name': 'metropolradruhr'}, {'id': 'metropolradruhr-mulheim-adr', 'name': 'metropolradruhr'}, {'id': 'metropolradruhr-oberhausen', 'name': 'metropolradruhr'}, {'id': 'nextbike-wachau', 'name': 'Nextbike'}, {'id': 'nextbike-tulln', 'name': 'Nextbike'}, {'id': 'nextbike-thermenregion', 'name': 'Nextbike'}, {'id': 'wrm-wroclaw', 'name': 'WRM'}, {'id': 'nextbike-offenburg', 'name': 'Nextbike'}, {'id': 'nextbike-wrneustadt', 'name': 'Nextbike'}, {'id': 'nextbike-potsdam', 'name': 'Nextbike'}, {'id': 'nextbike-gutersloh', 'name': 'Nextbike'}, {'id': 'nextbike-10vorwien', 'name': 'Nextbike'}, {'id': 'usedomrad-usedom', 'name': 'UsedomRad'}, {'id': 'nextbike-norderstedt', 'name': 'Nextbike'}, {'id': 'swa-rad-augsburg', 'name': 'SWA Rad'}, {'id': 'nextbike-limassol', 'name': 'Nextbike'}, {'id': 'nextbike-christchurch', 'name': 'Nextbike'}, {'id': 'vrn-heidelberg', 'name': 'VRN'}, {'id': 'vrn-mannheim', 'name': 'VRN'}, {'id': 'stadtrad-innsbruck', 'name': 'Stadtrad'}, {'id': 'nextbike-nicosia', 'name': 'Nextbike'}, {'id': 'nextbike-hollabrunn', 'name': 'Nextbike'}, {'id': 'nextbike-wienerwald', 'name': 'Nextbike'}, {'id': 'nextbike-zagreb', 'name': 'Nextbike'}, {'id': 'nextbike-glasgow', 'name': 'Nextbike'}, {'id': 'belfastbikes-belfast', 'name': 'BelfastBikes'}, {'id': 'nextbike-stirling', 'name': 'Nextbike'}, {'id': 'grad-sibenik-sibenik', 'name': 'Grad Šibenik'}, {'id': 'lrm-lublin-lublin', 'name': 'LRM Lublin'}, {'id': 'vrn-ludwigshafen', 'name': 'VRN'}, {'id': 'vrn-speyer', 'name': 'VRN'}, {'id': 'nextbike-lviv', 'name': 'Nextbike'}, {'id': 'nextbike-wurzburg', 'name': 'Nextbike'}, {'id': 'nextbike-serfaus', 'name': 'Nextbike'}, {'id': 'nextbike-malta', 'name': 'Nextbike'}, {'id': 'grad-karlovac-karlovac', 'name': 'Grad Karlovac'}, {'id': 'grad-slavonski-brod-slavonski-brod', 'name': 'Grad Slavonski Brod'}, {'id': 'santander-cycles-mk-milton-keynes', 'name': 'Santander Cycles MK'}, {'id': 'nextbike-hergiswil', 'name': 'Nextbike'}, {'id': 'grad-makarska-makarska', 'name': 'Grad Makarska'}, {'id': 'opcina-brinje-brinje', 'name': 'Općina Brinje'}, {'id': 'grad-zadar-zadar', 'name': 'Grad Zadar'}, {'id': 'vrn-bensheim', 'name': 'VRN'}, {'id': 'grad-ivanic-grad-ivanic-grad', 'name': 'Grad Ivanić-Grad'}, {'id': 'nextbike-sarajevo', 'name': 'Nextbike'}, {'id': 'co-bikes-exeter', 'name': 'Co-bikes'}, {'id': 'nextbike-auckland-waterfront', 'name': 'Nextbike'}, {'id': 'nextbike-berlin', 'name': 'Nextbike'}, {'id': 'wk-bike-bremen-bremen', 'name': 'WK-Bike'}, {'id': 'vrn-worms', 'name': 'VRN'}, {'id': 'nextbike-stans', 'name': 'Nextbike'}, {'id': 'nextbike-stansstad', 'name': 'Nextbike'}, {'id': 'nextbike-horw', 'name': 'Nextbike'}, {'id': 'vrn-burstadt', 'name': 'VRN'}, {'id': 'nextbike-gross-enzersdorf', 'name': 'Nextbike'}, {'id': 'nextbike-klagenfurt', 'name': 'Nextbike'}, {'id': 'vrn-kaiserslautern', 'name': 'VRN'}, {'id': 'sitycleta-las-palmas-las-palmas-de-gran-canaria', 'name': 'Sitycleta'}, {'id': 'grad-velika-gorica-velika-gorica', 'name': 'Grad Velika Gorica'}, {'id': 'grad-sisak-sisak', 'name': 'Grad Sisak'}, {'id': 'grad-metkovic-metkovic', 'name': 'Grad Metković'}, {'id': 'jastrebarsko-jastrebarsko', 'name': 'Nextbike'}, {'id': 'grad-drnis-drnis', 'name': 'Nextbike'}, {'id': 'nextbike-tuzla', 'name': 'Nextbike'}, {'id': 'arriva-nitra', 'name': 'Arriva'}, {'id': 'nextbike-marburg', 'name': 'Nextbike'}, {'id': 'bubi', 'name': 'MOL Bubi'}, {'id': 'nextbike-russelsheim-am-main', 'name': 'Nextbike'}, {'id': 'vrn-heppenheim', 'name': 'VRN'}, {'id': 'nextbike-kassel', 'name': 'Nextbike'}, {'id': 'nextbike-sarnen', 'name': 'Nextbike'}, {'id': 'nextbike-wolfenschiessen', 'name': 'Nextbike'}, {'id': 'nextbike-oberdorf', 'name': 'Nextbike'}, {'id': 'nextbike-giessen', 'name': 'Nextbike'}, {'id': 'vrn-weinheim', 'name': 'VRN'}, {'id': 'nextbike-cardiff', 'name': 'Nextbike'}, {'id': 'vrn-hockenheim', 'name': 'VRN'}, {'id': 'vrn-schwetzingen', 'name': 'VRN'}, {'id': 'nextbike-ennetmoos', 'name': 'Nextbike'}, {'id': 'vrn-eppelheim', 'name': 'VRN'}, {'id': 'nextbike-university-of-surrey', 'name': 'Nextbike'}, {'id': 'santander-cycles-swansea-swansea-university', 'name': 'Santander Cycles'}, {'id': 'nextbike-erfurt', 'name': 'Nextbike'}, {'id': 'bl-bike-banja-luka', 'name': 'BL bike'}, {'id': 'lahr-pedelecs-lahr', 'name': 'Nextbike'}, {'id': 'lviv-odessa', 'name': 'Nextbike'}, {'id': 'santander-monchengladbach', 'name': 'Santander Mönchengladbach'}, {'id': 'nomagobikes-celje', 'name': 'NomagoBikes'}, {'id': 'bilbon-bizi', 'name': 'BilbonBizi'}, {'id': 'nomagobikes-lasko', 'name': 'NomagoBikes'}, {'id': 'nextbike-lippstadt', 'name': 'Nextbike'}, {'id': 'bikekia-zilina', 'name': 'BikeKia'}, {'id': 'nextbike-vinnytsia', 'name': 'Nextbike'}, {'id': 'nextbike-bonn', 'name': 'Nextbike'}, {'id': 'rowerowe-lodzkie-rl-koluszki', 'name': 'Rowerowe Łódzkie'}, {'id': 'rowerowe-lodzkie-rl-lask', 'name': 'Rowerowe Łódzkie'}, {'id': 'rowerowe-lodzkie-rl-lowicz', 'name': 'Rowerowe Łódzkie'}, {'id': 'rowerowe-lodzkie-rl-pabianice', 'name': 'Rowerowe Łódzkie'}, {'id': 'rowerowe-lodzkie-rl-sieradz', 'name': 'Rowerowe Łódzkie'}, {'id': 'rowerowe-lodzkie-rl-skierniewice', 'name': 'Rowerowe Łódzkie'}, {'id': 'rowerowe-lodzkie-rl-zdunska-wola', 'name': 'Rowerowe Łódzkie'}, {'id': 'rowerowe-lodzkie-rl-zgierz', 'name': 'Rowerowe Łódzkie'}, {'id': 'rowerowe-lodzkie-rl-kutno', 'name': 'Rowerowe Łódzkie'}, {'id': 'rowerowe-lodzkie-rl-lodz-rl', 'name': 'Rowerowe Łódzkie'}, {'id': 'frelo-freiburg', 'name': 'Frelo'}, {'id': 'bicincitta-trieste', 'name': 'BiTS'}, {'id': 'mobibike-dresden', 'name': 'MOBIbike'}, {'id': 'velobike-murmansk', 'name': 'Velobike'}, {'id': 'velobike-nizhniy-novgorod', 'name': 'Velobike'}, {'id': 'nextbike-ivano-frankivsk', 'name': 'Nextbike'}, {'id': 'almatybike', 'name': 'Almatybike'}, {'id': 'shymkentbike', 'name': 'Shymkentbike'}, {'id': 'bay-wheels', 'name': 'Bay Wheels'}, {'id': 'veloceo', 'name': 'Vélocéo'}, {'id': 'monabike', 'name': 'MonaBike'}, {'id': 'tlp-velo', 'name': 'Tarbes et Lourdes vls'}, {'id': 'zebullo', 'name': 'ZébullO'}, {'id': 'velectin', 'name': 'Velect’in'}, {'id': 'rubis-velo', 'name': \"Rubis'Vélo\"}, {'id': 'tanlib', 'name': 'Vélo tanlib'}, {'id': 'marseillan', 'name': 'Marseillan vélo libre-service'}, {'id': 'via-velo', 'name': 'VIA Vélo'}, {'id': 'velyceo', 'name': 'vélYcéo'}, {'id': 'velocite-laon', 'name': \"Vélo'Cité\"}, {'id': 'velo-baulois', 'name': 'Le Vélo Baulois'}, {'id': 'le-marcel', 'name': 'Le Marcel'}, {'id': 'tempo-velo', 'name': 'Tempo Vélo'}, {'id': 'semo', 'name': 'semo'}, {'id': 'cyclovis', 'name': 'Cyclovis'}, {'id': 'chantrerie-captainbike', 'name': 'Chantrerie VLS (Captain Bike)'}, {'id': 'saclay-captainbike', 'name': 'Saclay VLS (Captain Bike)'}, {'id': 'velok', 'name': \"Vël'Ok\"}, {'id': 'wienmobil-rad', 'name': 'WienMobil Rad'}, {'id': 'bikeverona', 'name': 'Verona Bike'}, {'id': 'sprottenflotte-kiel', 'name': 'Sprottenflotte'}, {'id': 'velomagg', 'name': 'Vélomagg'}, {'id': 'rtc-bike-share', 'name': 'RTC Bike Share'}, {'id': 'spokies', 'name': 'Spokies BCycle'}, {'id': 'alsa-nextbike-leon', 'name': 'Alsa nextbike León'}, {'id': 'velhop', 'name': 'Vélhop'}, {'id': 'optymo', 'name': 'Optymo'}, {'id': 'nextbike-prostejov', 'name': 'nextbike Prostejov'}, {'id': 'nextbike-focsani', 'name': 'nextbike Romania'}, {'id': 'grad-vukovar', 'name': 'Grad Vukovar (Croatia)'}, {'id': 'grad-zapresic', 'name': 'Grad Zaprešić (Croatia)'}, {'id': 'santander-brunel', 'name': 'Santander Cycles - Brunel'}, {'id': 'pobiedziski-rower-gminny-pobiedziska', 'name': 'Pobiedziski Rower Gminny Poland'}, {'id': 'piotrkowski-rower-miejski-piotrkow-trybunalski', 'name': 'Piotrkowski Rower Miejski Poland'}, {'id': 'sap-walldorf', 'name': 'SAP Walldorf'}, {'id': 'opcina-pitomaca', 'name': 'Općina Pitomača (Croatia)'}, {'id': 'nomago-ljubljana', 'name': 'Nomago Bikes - LJUBLJANA'}, {'id': 'system-roweru-gminnego-pielgrzymka', 'name': 'System Roweru Gminnego Poland'}, {'id': 'rvk', 'name': 'RVK'}, {'id': 'wupsi', 'name': 'wupsiRad Leverkusen'}, {'id': 'lovesharing-canary-islands-gran-canaria', 'name': 'Lovesharing (Canary Islands)'}, {'id': 'lovesharing-canary-islands-lanzarote', 'name': 'Lovesharing (Canary Islands)'}, {'id': 'lovesharing-canary-islands-fuerteventura', 'name': 'Lovesharing (Canary Islands)'}, {'id': 'vagrad', 'name': 'VAG_Rad'}, {'id': 'grad-split', 'name': 'Grad Split (Croatia)'}, {'id': 'grad-split-solin', 'name': 'Grad Split (Croatia)'}, {'id': 'grad-split-opcina-klis', 'name': 'Grad Split (Croatia)'}, {'id': 'grad-split-opcina-hrvace', 'name': 'Grad Split (Croatia)'}, {'id': 'grad-split-opcina-otok-dalmatinski', 'name': 'Grad Split (Croatia)'}, {'id': 'grad-split-sinj', 'name': 'Grad Split (Croatia)'}, {'id': 'grad-split-podstrana', 'name': 'Grad Split (Croatia)'}, {'id': 'grad-split-trogir', 'name': 'Grad Split (Croatia)'}, {'id': 'nextbike-ostrava', 'name': 'nextbike Ostrava'}, {'id': 'nextbike-ostrava-hlucin', 'name': 'nextbike Ostrava'}, {'id': 'nextbike-ostrava-vresina', 'name': 'nextbike Ostrava'}, {'id': 'ibizi-ibiza-city', 'name': 'ibizi'}, {'id': 'sprintrad', 'name': 'sprintRAD'}, {'id': 'komornicki-system-rowerowy-komorniki', 'name': 'Komornicki System Rowerowy Poland'}, {'id': 'nextbike-havirov', 'name': 'nextbike Havířov'}, {'id': 'nextbike-berounsko', 'name': 'nextbike Berounsko'}, {'id': 'ready4green-graben', 'name': 'Graben - ready4green'}, {'id': 'oleski-rower-miejski-olesno', 'name': 'Oleski Rower Miejski Poland'}, {'id': 'styr-staell-goeteborg', 'name': 'Styr & Ställ (Sweden, Göteborg)'}, {'id': 'nibelungen-bike-braunschweig', 'name': 'Nibelungen-Bike'}, {'id': 'nextbike-brno', 'name': 'nextbike Brno'}, {'id': 'nextbike-brno-kurim', 'name': 'nextbike Brno'}, {'id': 'nextbike-praha', 'name': 'nextbike Praha'}, {'id': 'nextbike-praha-ricany', 'name': 'nextbike Praha'}, {'id': 'nextbike-olomouc', 'name': 'nextbike Olomouc'}, {'id': 'nextbike-kladno', 'name': 'nextbike Kladno'}, {'id': 'nextbike-opava', 'name': 'nextbike Opava'}, {'id': 'nextbike-bielefeld', 'name': 'meinSiggi'}, {'id': 'yoy-san-luis-potosi', 'name': 'YOY - San Luis Potosi'}, {'id': 'yoy-san-luis-potosi-cancun', 'name': 'YOY - San Luis Potosi'}, {'id': 'bergisches-e-bike', 'name': 'Bergisches e-Bike'}, {'id': 'nextbike-pardubice', 'name': 'nextbike Pardubice'}, {'id': 'nextbike-hradec-kralove', 'name': 'nextbike Hradec Králové'}, {'id': 'nextbike-mladoboleslavsko-mlada-boleslav', 'name': 'nextbike Mladoboleslavsko'}, {'id': 'nextbike-mladoboleslavsko-mnichovo-hradiste', 'name': 'nextbike Mladoboleslavsko'}, {'id': 'oeynrad-bad-oeynhausen', 'name': 'Oeynrad'}, {'id': 'rsvg-bike', 'name': 'RSVG-Bike'}, {'id': 'citybikelinz', 'name': 'city bike Linz'}, {'id': 'velopark-drobeta', 'name': 'Drobeta Velopark'}, {'id': 'nomago-gorica', 'name': 'Nomago Bikes - GO2GO'}, {'id': 'saturn', 'name': 'Saturn'}, {'id': 'nextbike-frydek-mistek', 'name': 'nextbike Frýdek-Místek'}, {'id': 'nextbike-uherske-hradiste', 'name': 'nextbike Uherské Hradiště'}, {'id': 'nextbike-zlin', 'name': 'nextbike Zlín'}, {'id': 'nextbike-krnov', 'name': 'nextbike Krnov'}, {'id': 'eifel', 'name': 'Eifel e-Bike'}, {'id': 'nextbike-rychnovsko', 'name': 'nextbike Rychnovsko'}, {'id': 'nextbike-pisek', 'name': 'nextbike Písek'}, {'id': 'nextbike-jihlava', 'name': 'nextbike Jihlava'}, {'id': 'nomago-zanaprej', 'name': 'Nomago Bikes - ZANAPREJ'}, {'id': 'rower-powiatowy-sokolow-podlaski', 'name': 'Rower Powiatowy Sokołów Podlaski'}, {'id': 'nextbike-bergamo', 'name': 'nextbike Bergamo'}, {'id': 'emobi-osijek', 'name': 'eMobi (Croatia)'}, {'id': 'arval-scandicci', 'name': 'ARVAL'}, {'id': 'nextbike-oldenburg', 'name': 'OLi-Bike'}, {'id': 'nextbike-urdaibai', 'name': 'BBK Klimabizi'}, {'id': 'mvrad-hq', 'name': 'MV-Rad'}, {'id': 'mvrad-anklam', 'name': 'MV-Rad'}, {'id': 'greifswald', 'name': 'StadtRad Greifswald'}, {'id': 'nextbike-dvur-kralove', 'name': 'nextbike Dvůr Králové'}, {'id': 'vvtregiorad-kufstein', 'name': 'VVT REGIORAD Tirol'}, {'id': 'vvtregiorad-ellmau', 'name': 'VVT REGIORAD Tirol'}, {'id': 'ski-rower-chelm', 'name': 'Chełmski Rower'}, {'id': 'nextbike-vrchlabi', 'name': 'nextbike Vrchlabí'}, {'id': 'winsenrad', 'name': 'WinsenRad'}, {'id': 'nomago-portoroz', 'name': 'Nomago Bikes - PORTOROZ'}, {'id': 'vrn-landau', 'name': 'VRN'}, {'id': 'velocity-aachen', 'name': 'Velocity'}, {'id': 'avelo-quebec', 'name': 'àVélo'}, {'id': 'acces-velo-saguenay', 'name': 'Accès Vélo'}, {'id': 'vilvolt', 'name': 'Vilvolt'}, {'id': 'velobaie', 'name': 'VeloBaie'}, {'id': 'donkey-gh', 'name': 'Donkey Republic - Gent'}, {'id': 'mbajk', 'name': 'MBajk'}, {'id': 'publibike-zuerich', 'name': 'PubliBike Zürich'}, {'id': 'publibike-sierre', 'name': 'PubliBike Sierre'}, {'id': 'publibike-region-de-nyon', 'name': 'PubliBike Région de Nyon'}, {'id': 'publibike-bern', 'name': 'PubliBike Bern'}, {'id': 'publibike-sottoceneri-ti', 'name': 'PubliBike Sottoceneri (TI)'}, {'id': 'publibike-fribourg', 'name': 'PubliBike Fribourg'}, {'id': 'publibike-lausanne-morges', 'name': 'PubliBike Lausanne-Morges'}, {'id': 'publibike-sion', 'name': 'PubliBike Sion'}, {'id': 'lovelolibreservice', 'name': 'Lovélo Libre Service'}, {'id': 'waterford', 'name': 'TFI Bikes'}, {'id': 'cyclopolis-loutraki', 'name': 'Cyclopolis'}, {'id': 'cyclopolis-igoumenitsa', 'name': 'Cyclopolis'}, {'id': 'cyclopolis-edessa', 'name': 'Cyclopolis'}, {'id': 'cyclopolis-syros', 'name': 'Cyclopolis'}, {'id': 'cyclopolis-chania', 'name': 'Cyclopolis'}, {'id': 'torvelo', 'name': 'Torvelo'}, {'id': 'gijon', 'name': 'Gijón Bici'}, {'id': 'auxrmlevelo', 'name': 'AuxR_M le vélo'}, {'id': 'zena-by-bike', 'name': 'Zena By Bike'}, {'id': 'ambici-badalona', 'name': 'Ambici'}, {'id': 'ambici-cornella-de-llobregat', 'name': 'Ambici'}, {'id': 'ambici-santa-coloma-de-gramenet', 'name': 'Ambici'}, {'id': 'ambici-el-prat-de-llobregat', 'name': 'Ambici'}, {'id': 'ambici-castelldefels', 'name': 'Ambici'}, {'id': 'ambici-viladecans', 'name': 'Ambici'}, {'id': 'ambici-gava', 'name': 'Ambici'}, {'id': 'ambici-esplugues-de-llobregat', 'name': 'Ambici'}, {'id': 'ambici-sant-joan-despi', 'name': 'Ambici'}, {'id': 'ambici-molins-de-rei', 'name': 'Ambici'}, {'id': 'ambici-sant-just-desvern', 'name': 'Ambici'}, {'id': 'ambici-sant-boi-de-llobregat', 'name': 'Ambici'}, {'id': 'heraeus-hanau', 'name': 'Heraeus Hanau'}, {'id': 'stari-grad-hvar', 'name': 'Hvar'}, {'id': 'revgmobic', 'name': 'mobic'}, {'id': 'westbike-erkelenz', 'name': 'westBike'}, {'id': 'westbike-geilenkirchen', 'name': 'westBike'}, {'id': 'westbike-heinsberg', 'name': 'westBike'}, {'id': 'westbike-hueckelhoven', 'name': 'westBike'}, {'id': 'westbike-wegberg', 'name': 'westBike'}, {'id': 'edeka-gruenheide-mark', 'name': 'EDEKA Grünheide'}, {'id': 'nextbike-erlangen', 'name': 'nextbike Erlangen'}, {'id': 'nomago-gorizia', 'name': 'GO2GO - Gorizia'}, {'id': 'mvg-meinrad-nextbike-mainz', 'name': 'meinRad MVG Mainz'}, {'id': 'veturilo-nextbike-warsaw', 'name': 'VETURILO 3.0'}, {'id': 'divia-velodi', 'name': 'DiviaVélodi'}, {'id': 'twisto-velo', 'name': 'Twisto vélo'}, {'id': 'veloplus-velotao', 'name': 'Vélo+/VéloTAO'}, {'id': 'velitul', 'name': 'Vélitul'}, {'id': 'citi-bike-miami', 'name': 'Citi Bike Miami'}, {'id': 'bicincitta-costa-blu', 'name': 'Costa Blu'}, {'id': 'bicincitta-pista', 'name': 'PisTA!'}, {'id': 'bicincitta-monteriggioni', 'name': 'Sipedala'}, {'id': 'bicincitta-massa', 'name': 'Bici in Massa'}, {'id': 'bikenmedio', 'name': 'BikEnmedio'}, {'id': 'biciarousa', 'name': 'BiciArousa'}, {'id': 'bealler', 'name': 'Pedaleando por Aller (BeALLER)'}, {'id': 'albabici', 'name': 'AlbaBici'}, {'id': 'bicialcazar', 'name': 'BiciAlcázar'}, {'id': 'tallinja-bike', 'name': 'Tallinja Bike'}, {'id': 'tugo-bike-share', 'name': 'Tugo Bike Share'}]}\n"
     ]
    }
   ],
   "source": [
    "city_bike_networks = requests.get(\"http://api.citybik.es/v2/networks?fields=id,name,latitude\").json()\n",
    "print(city_bike_networks)"
   ]
  },
  {
   "cell_type": "markdown",
   "metadata": {},
   "source": [
    "Put your parsed results into a DataFrame."
   ]
  },
  {
   "cell_type": "code",
   "execution_count": 3,
   "metadata": {},
   "outputs": [
    {
     "data": {
      "text/html": [
       "<div>\n",
       "<style scoped>\n",
       "    .dataframe tbody tr th:only-of-type {\n",
       "        vertical-align: middle;\n",
       "    }\n",
       "\n",
       "    .dataframe tbody tr th {\n",
       "        vertical-align: top;\n",
       "    }\n",
       "\n",
       "    .dataframe thead th {\n",
       "        text-align: right;\n",
       "    }\n",
       "</style>\n",
       "<table border=\"1\" class=\"dataframe\">\n",
       "  <thead>\n",
       "    <tr style=\"text-align: right;\">\n",
       "      <th></th>\n",
       "      <th>id</th>\n",
       "      <th>name</th>\n",
       "    </tr>\n",
       "  </thead>\n",
       "  <tbody>\n",
       "  </tbody>\n",
       "</table>\n",
       "</div>"
      ],
      "text/plain": [
       "Empty DataFrame\n",
       "Columns: [id, name]\n",
       "Index: []"
      ]
     },
     "execution_count": 3,
     "metadata": {},
     "output_type": "execute_result"
    }
   ],
   "source": [
    "import pandas as pd\n",
    "pd.DataFrame(data = columns = ['id','name','latitude'])"
   ]
  }
 ],
 "metadata": {
  "kernelspec": {
   "display_name": "Python 3",
   "language": "python",
   "name": "python3"
  },
  "language_info": {
   "codemirror_mode": {
    "name": "ipython",
    "version": 3
   },
   "file_extension": ".py",
   "mimetype": "text/x-python",
   "name": "python",
   "nbconvert_exporter": "python",
   "pygments_lexer": "ipython3",
   "version": "3.11.4"
  }
 },
 "nbformat": 4,
 "nbformat_minor": 4
}
