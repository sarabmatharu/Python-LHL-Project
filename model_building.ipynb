{
 "cells": [
  {
   "cell_type": "markdown",
   "metadata": {},
   "source": [
    "Build a regression model."
   ]
  },
  {
   "cell_type": "code",
   "execution_count": 3,
   "metadata": {},
   "outputs": [
    {
     "data": {
      "text/html": [
       "<div>\n",
       "<style scoped>\n",
       "    .dataframe tbody tr th:only-of-type {\n",
       "        vertical-align: middle;\n",
       "    }\n",
       "\n",
       "    .dataframe tbody tr th {\n",
       "        vertical-align: top;\n",
       "    }\n",
       "\n",
       "    .dataframe thead th {\n",
       "        text-align: right;\n",
       "    }\n",
       "</style>\n",
       "<table border=\"1\" class=\"dataframe\">\n",
       "  <thead>\n",
       "    <tr style=\"text-align: right;\">\n",
       "      <th></th>\n",
       "      <th>Unnamed: 0</th>\n",
       "      <th>latitude</th>\n",
       "      <th>longitude</th>\n",
       "      <th>extra.normal_bikes</th>\n",
       "    </tr>\n",
       "  </thead>\n",
       "  <tbody>\n",
       "    <tr>\n",
       "      <th>0</th>\n",
       "      <td>0</td>\n",
       "      <td>55.744901</td>\n",
       "      <td>37.602018</td>\n",
       "      <td>5</td>\n",
       "    </tr>\n",
       "    <tr>\n",
       "      <th>1</th>\n",
       "      <td>1</td>\n",
       "      <td>55.633750</td>\n",
       "      <td>37.520553</td>\n",
       "      <td>2</td>\n",
       "    </tr>\n",
       "    <tr>\n",
       "      <th>2</th>\n",
       "      <td>2</td>\n",
       "      <td>55.781240</td>\n",
       "      <td>37.592390</td>\n",
       "      <td>3</td>\n",
       "    </tr>\n",
       "    <tr>\n",
       "      <th>3</th>\n",
       "      <td>3</td>\n",
       "      <td>55.781785</td>\n",
       "      <td>37.614473</td>\n",
       "      <td>6</td>\n",
       "    </tr>\n",
       "    <tr>\n",
       "      <th>4</th>\n",
       "      <td>4</td>\n",
       "      <td>55.789663</td>\n",
       "      <td>37.604464</td>\n",
       "      <td>7</td>\n",
       "    </tr>\n",
       "  </tbody>\n",
       "</table>\n",
       "</div>"
      ],
      "text/plain": [
       "   Unnamed: 0   latitude  longitude  extra.normal_bikes\n",
       "0           0  55.744901  37.602018                   5\n",
       "1           1  55.633750  37.520553                   2\n",
       "2           2  55.781240  37.592390                   3\n",
       "3           3  55.781785  37.614473                   6\n",
       "4           4  55.789663  37.604464                   7"
      ]
     },
     "execution_count": 3,
     "metadata": {},
     "output_type": "execute_result"
    }
   ],
   "source": [
    "import numpy as np\n",
    "import pandas as pd\n",
    "import statsmodels.api as sm\n",
    "\n",
    "r = pd.read_csv('bikedata.csv')\n",
    "s = pd.read_csv('venues.csv')\n",
    "\n",
    "r.head()\n",
    "##mod = sm.OLS(r,s)\n",
    "##res = mod.fit()\n",
    "\n",
    "\n",
    "# RADIUS = 1000\n",
    "# CITY = 'Paris'\n",
    "# url = 'https://api.foursquare.com/v2/venues/explore?&RADIUS={}&CITY={}'.format(RADIUS,CITY)\n",
    "# data = sm.datasets.spector.load()\n",
    "# url.exog = sm.add_constant(url.exog, prepend=False)\n",
    "# mod = sm.OLS(url.endog, url.exog)\n",
    "# res = mod.fit()\n",
    "# print(res.summary())\n",
    "# sm.datasets.spector.load()\n",
    "# url = 'https://api.foursquare.com/v2/venues/explore'\n",
    "# sm.add_constant(url.exog, prepend=False)\n",
    "# mod = sm.OLS(url.endog, url.exog)\n",
    "# res = mod.fit()\n",
    "# print(res.summary())"
   ]
  },
  {
   "cell_type": "code",
   "execution_count": 4,
   "metadata": {},
   "outputs": [
    {
     "data": {
      "text/html": [
       "<div>\n",
       "<style scoped>\n",
       "    .dataframe tbody tr th:only-of-type {\n",
       "        vertical-align: middle;\n",
       "    }\n",
       "\n",
       "    .dataframe tbody tr th {\n",
       "        vertical-align: top;\n",
       "    }\n",
       "\n",
       "    .dataframe thead th {\n",
       "        text-align: right;\n",
       "    }\n",
       "</style>\n",
       "<table border=\"1\" class=\"dataframe\">\n",
       "  <thead>\n",
       "    <tr style=\"text-align: right;\">\n",
       "      <th></th>\n",
       "      <th>Unnamed: 0</th>\n",
       "      <th>Neighbourhood Latitude</th>\n",
       "      <th>Neighbourhood Longitude</th>\n",
       "      <th>Venue</th>\n",
       "      <th>Venue Distance</th>\n",
       "      <th>Venue Name</th>\n",
       "    </tr>\n",
       "  </thead>\n",
       "  <tbody>\n",
       "    <tr>\n",
       "      <th>0</th>\n",
       "      <td>0</td>\n",
       "      <td>55.744901</td>\n",
       "      <td>37.602018</td>\n",
       "      <td>Парк Храма Христа Спасителя</td>\n",
       "      <td>270</td>\n",
       "      <td>Park</td>\n",
       "    </tr>\n",
       "    <tr>\n",
       "      <th>1</th>\n",
       "      <td>1</td>\n",
       "      <td>55.744901</td>\n",
       "      <td>37.602018</td>\n",
       "      <td>Детская площадка на Гоголевском бульваре</td>\n",
       "      <td>147</td>\n",
       "      <td>Playground</td>\n",
       "    </tr>\n",
       "    <tr>\n",
       "      <th>2</th>\n",
       "      <td>2</td>\n",
       "      <td>55.744901</td>\n",
       "      <td>37.602018</td>\n",
       "      <td>Преображенный дуб</td>\n",
       "      <td>251</td>\n",
       "      <td>Park</td>\n",
       "    </tr>\n",
       "    <tr>\n",
       "      <th>3</th>\n",
       "      <td>3</td>\n",
       "      <td>55.744901</td>\n",
       "      <td>37.602018</td>\n",
       "      <td>Площадка на 2ом Обыденском</td>\n",
       "      <td>262</td>\n",
       "      <td>Playground</td>\n",
       "    </tr>\n",
       "    <tr>\n",
       "      <th>4</th>\n",
       "      <td>4</td>\n",
       "      <td>55.744901</td>\n",
       "      <td>37.602018</td>\n",
       "      <td>Площадка у храма Илии Пророка, сделанная на ср...</td>\n",
       "      <td>297</td>\n",
       "      <td>Park</td>\n",
       "    </tr>\n",
       "  </tbody>\n",
       "</table>\n",
       "</div>"
      ],
      "text/plain": [
       "   Unnamed: 0  Neighbourhood Latitude  Neighbourhood Longitude  \\\n",
       "0           0               55.744901                37.602018   \n",
       "1           1               55.744901                37.602018   \n",
       "2           2               55.744901                37.602018   \n",
       "3           3               55.744901                37.602018   \n",
       "4           4               55.744901                37.602018   \n",
       "\n",
       "                                               Venue  Venue Distance  \\\n",
       "0                        Парк Храма Христа Спасителя             270   \n",
       "1           Детская площадка на Гоголевском бульваре             147   \n",
       "2                                  Преображенный дуб             251   \n",
       "3                         Площадка на 2ом Обыденском             262   \n",
       "4  Площадка у храма Илии Пророка, сделанная на ср...             297   \n",
       "\n",
       "   Venue Name  \n",
       "0        Park  \n",
       "1  Playground  \n",
       "2        Park  \n",
       "3  Playground  \n",
       "4        Park  "
      ]
     },
     "execution_count": 4,
     "metadata": {},
     "output_type": "execute_result"
    }
   ],
   "source": [
    "s.head()"
   ]
  },
  {
   "cell_type": "code",
   "execution_count": 5,
   "metadata": {},
   "outputs": [
    {
     "data": {
      "text/plain": [
       "(778, 4)"
      ]
     },
     "execution_count": 5,
     "metadata": {},
     "output_type": "execute_result"
    }
   ],
   "source": [
    "r.shape"
   ]
  },
  {
   "cell_type": "code",
   "execution_count": 6,
   "metadata": {},
   "outputs": [
    {
     "data": {
      "text/plain": [
       "(14, 6)"
      ]
     },
     "execution_count": 6,
     "metadata": {},
     "output_type": "execute_result"
    }
   ],
   "source": [
    "s.shape"
   ]
  },
  {
   "cell_type": "code",
   "execution_count": 7,
   "metadata": {},
   "outputs": [
    {
     "data": {
      "text/plain": [
       "Index(['Unnamed: 0', 'latitude', 'longitude', 'extra.normal_bikes'], dtype='object')"
      ]
     },
     "execution_count": 7,
     "metadata": {},
     "output_type": "execute_result"
    }
   ],
   "source": [
    "r.columns"
   ]
  },
  {
   "cell_type": "code",
   "execution_count": 8,
   "metadata": {},
   "outputs": [
    {
     "data": {
      "text/plain": [
       "Index(['Unnamed: 0', 'Neighbourhood Latitude', 'Neighbourhood Longitude',\n",
       "       'Venue', 'Venue Distance', 'Venue Name'],\n",
       "      dtype='object')"
      ]
     },
     "execution_count": 8,
     "metadata": {},
     "output_type": "execute_result"
    }
   ],
   "source": [
    "s.columns"
   ]
  },
  {
   "cell_type": "code",
   "execution_count": 9,
   "metadata": {},
   "outputs": [
    {
     "data": {
      "text/html": [
       "<div>\n",
       "<style scoped>\n",
       "    .dataframe tbody tr th:only-of-type {\n",
       "        vertical-align: middle;\n",
       "    }\n",
       "\n",
       "    .dataframe tbody tr th {\n",
       "        vertical-align: top;\n",
       "    }\n",
       "\n",
       "    .dataframe thead th {\n",
       "        text-align: right;\n",
       "    }\n",
       "</style>\n",
       "<table border=\"1\" class=\"dataframe\">\n",
       "  <thead>\n",
       "    <tr style=\"text-align: right;\">\n",
       "      <th></th>\n",
       "      <th>Neighbourhood Latitude</th>\n",
       "      <th>Neighbourhood Longitude</th>\n",
       "      <th>Venue Distance</th>\n",
       "      <th>Venue Name</th>\n",
       "    </tr>\n",
       "  </thead>\n",
       "  <tbody>\n",
       "    <tr>\n",
       "      <th>0</th>\n",
       "      <td>55.744901</td>\n",
       "      <td>37.602018</td>\n",
       "      <td>270</td>\n",
       "      <td>Park</td>\n",
       "    </tr>\n",
       "    <tr>\n",
       "      <th>1</th>\n",
       "      <td>55.744901</td>\n",
       "      <td>37.602018</td>\n",
       "      <td>147</td>\n",
       "      <td>Playground</td>\n",
       "    </tr>\n",
       "    <tr>\n",
       "      <th>2</th>\n",
       "      <td>55.744901</td>\n",
       "      <td>37.602018</td>\n",
       "      <td>251</td>\n",
       "      <td>Park</td>\n",
       "    </tr>\n",
       "    <tr>\n",
       "      <th>3</th>\n",
       "      <td>55.744901</td>\n",
       "      <td>37.602018</td>\n",
       "      <td>262</td>\n",
       "      <td>Playground</td>\n",
       "    </tr>\n",
       "    <tr>\n",
       "      <th>4</th>\n",
       "      <td>55.744901</td>\n",
       "      <td>37.602018</td>\n",
       "      <td>297</td>\n",
       "      <td>Park</td>\n",
       "    </tr>\n",
       "  </tbody>\n",
       "</table>\n",
       "</div>"
      ],
      "text/plain": [
       "   Neighbourhood Latitude  Neighbourhood Longitude  Venue Distance  Venue Name\n",
       "0               55.744901                37.602018             270        Park\n",
       "1               55.744901                37.602018             147  Playground\n",
       "2               55.744901                37.602018             251        Park\n",
       "3               55.744901                37.602018             262  Playground\n",
       "4               55.744901                37.602018             297        Park"
      ]
     },
     "execution_count": 9,
     "metadata": {},
     "output_type": "execute_result"
    }
   ],
   "source": [
    "s.drop(['Unnamed: 0','Venue'], axis = 1, inplace=True)\n",
    "s.head()"
   ]
  },
  {
   "cell_type": "code",
   "execution_count": 10,
   "metadata": {},
   "outputs": [
    {
     "name": "stdout",
     "output_type": "stream",
     "text": [
      "Dataset Shape: (778, 4)\n"
     ]
    },
    {
     "data": {
      "text/plain": [
       "Unnamed: 0            0\n",
       "latitude              0\n",
       "longitude             0\n",
       "extra.normal_bikes    0\n",
       "dtype: int64"
      ]
     },
     "execution_count": 10,
     "metadata": {},
     "output_type": "execute_result"
    }
   ],
   "source": [
    "print(\"Dataset Shape:\", r.shape)\n",
    "r.isnull().sum()"
   ]
  },
  {
   "cell_type": "code",
   "execution_count": 12,
   "metadata": {},
   "outputs": [
    {
     "name": "stdout",
     "output_type": "stream",
     "text": [
      "Dataset Shape: (14, 4)\n"
     ]
    },
    {
     "data": {
      "text/plain": [
       "Neighbourhood Latitude     0\n",
       "Neighbourhood Longitude    0\n",
       "Venue Distance             0\n",
       "Venue Name                 0\n",
       "dtype: int64"
      ]
     },
     "execution_count": 12,
     "metadata": {},
     "output_type": "execute_result"
    }
   ],
   "source": [
    "print(\"Dataset Shape:\", s.shape)\n",
    "s.isnull().sum()"
   ]
  },
  {
   "cell_type": "code",
   "execution_count": 13,
   "metadata": {},
   "outputs": [
    {
     "name": "stdout",
     "output_type": "stream",
     "text": [
      "Number of Duplicate Records: 0\n"
     ]
    }
   ],
   "source": [
    "\n",
    "print(\"Number of Duplicate Records:\", r.duplicated().sum())"
   ]
  },
  {
   "cell_type": "code",
   "execution_count": 14,
   "metadata": {},
   "outputs": [
    {
     "name": "stdout",
     "output_type": "stream",
     "text": [
      "Number of Duplicate Records: 0\n"
     ]
    }
   ],
   "source": [
    "\n",
    "print(\"Number of Duplicate Records:\", s.duplicated().sum())"
   ]
  },
  {
   "cell_type": "code",
   "execution_count": 15,
   "metadata": {},
   "outputs": [
    {
     "data": {
      "text/html": [
       "<div>\n",
       "<style scoped>\n",
       "    .dataframe tbody tr th:only-of-type {\n",
       "        vertical-align: middle;\n",
       "    }\n",
       "\n",
       "    .dataframe tbody tr th {\n",
       "        vertical-align: top;\n",
       "    }\n",
       "\n",
       "    .dataframe thead th {\n",
       "        text-align: right;\n",
       "    }\n",
       "</style>\n",
       "<table border=\"1\" class=\"dataframe\">\n",
       "  <thead>\n",
       "    <tr style=\"text-align: right;\">\n",
       "      <th></th>\n",
       "      <th>Unnamed: 0</th>\n",
       "      <th>latitude</th>\n",
       "      <th>longitude</th>\n",
       "      <th>extra.normal_bikes</th>\n",
       "    </tr>\n",
       "  </thead>\n",
       "  <tbody>\n",
       "    <tr>\n",
       "      <th>count</th>\n",
       "      <td>778.000000</td>\n",
       "      <td>778.000000</td>\n",
       "      <td>778.000000</td>\n",
       "      <td>778.000000</td>\n",
       "    </tr>\n",
       "    <tr>\n",
       "      <th>mean</th>\n",
       "      <td>388.500000</td>\n",
       "      <td>55.748512</td>\n",
       "      <td>37.591761</td>\n",
       "      <td>7.138817</td>\n",
       "    </tr>\n",
       "    <tr>\n",
       "      <th>std</th>\n",
       "      <td>224.733546</td>\n",
       "      <td>0.065969</td>\n",
       "      <td>0.100344</td>\n",
       "      <td>5.270179</td>\n",
       "    </tr>\n",
       "    <tr>\n",
       "      <th>min</th>\n",
       "      <td>0.000000</td>\n",
       "      <td>55.465606</td>\n",
       "      <td>37.292854</td>\n",
       "      <td>0.000000</td>\n",
       "    </tr>\n",
       "    <tr>\n",
       "      <th>25%</th>\n",
       "      <td>194.250000</td>\n",
       "      <td>55.708235</td>\n",
       "      <td>37.538881</td>\n",
       "      <td>3.000000</td>\n",
       "    </tr>\n",
       "    <tr>\n",
       "      <th>50%</th>\n",
       "      <td>388.500000</td>\n",
       "      <td>55.751555</td>\n",
       "      <td>37.591370</td>\n",
       "      <td>7.000000</td>\n",
       "    </tr>\n",
       "    <tr>\n",
       "      <th>75%</th>\n",
       "      <td>582.750000</td>\n",
       "      <td>55.789575</td>\n",
       "      <td>37.639930</td>\n",
       "      <td>10.000000</td>\n",
       "    </tr>\n",
       "    <tr>\n",
       "      <th>max</th>\n",
       "      <td>777.000000</td>\n",
       "      <td>55.898990</td>\n",
       "      <td>38.035340</td>\n",
       "      <td>40.000000</td>\n",
       "    </tr>\n",
       "  </tbody>\n",
       "</table>\n",
       "</div>"
      ],
      "text/plain": [
       "       Unnamed: 0    latitude   longitude  extra.normal_bikes\n",
       "count  778.000000  778.000000  778.000000          778.000000\n",
       "mean   388.500000   55.748512   37.591761            7.138817\n",
       "std    224.733546    0.065969    0.100344            5.270179\n",
       "min      0.000000   55.465606   37.292854            0.000000\n",
       "25%    194.250000   55.708235   37.538881            3.000000\n",
       "50%    388.500000   55.751555   37.591370            7.000000\n",
       "75%    582.750000   55.789575   37.639930           10.000000\n",
       "max    777.000000   55.898990   38.035340           40.000000"
      ]
     },
     "execution_count": 15,
     "metadata": {},
     "output_type": "execute_result"
    }
   ],
   "source": [
    "r.describe()"
   ]
  },
  {
   "cell_type": "code",
   "execution_count": 16,
   "metadata": {},
   "outputs": [
    {
     "data": {
      "text/html": [
       "<div>\n",
       "<style scoped>\n",
       "    .dataframe tbody tr th:only-of-type {\n",
       "        vertical-align: middle;\n",
       "    }\n",
       "\n",
       "    .dataframe tbody tr th {\n",
       "        vertical-align: top;\n",
       "    }\n",
       "\n",
       "    .dataframe thead th {\n",
       "        text-align: right;\n",
       "    }\n",
       "</style>\n",
       "<table border=\"1\" class=\"dataframe\">\n",
       "  <thead>\n",
       "    <tr style=\"text-align: right;\">\n",
       "      <th></th>\n",
       "      <th>Neighbourhood Latitude</th>\n",
       "      <th>Neighbourhood Longitude</th>\n",
       "      <th>Venue Distance</th>\n",
       "    </tr>\n",
       "  </thead>\n",
       "  <tbody>\n",
       "    <tr>\n",
       "      <th>count</th>\n",
       "      <td>1.400000e+01</td>\n",
       "      <td>14.000000</td>\n",
       "      <td>14.000000</td>\n",
       "    </tr>\n",
       "    <tr>\n",
       "      <th>mean</th>\n",
       "      <td>5.574490e+01</td>\n",
       "      <td>37.602018</td>\n",
       "      <td>354.000000</td>\n",
       "    </tr>\n",
       "    <tr>\n",
       "      <th>std</th>\n",
       "      <td>1.474730e-14</td>\n",
       "      <td>0.000000</td>\n",
       "      <td>102.424456</td>\n",
       "    </tr>\n",
       "    <tr>\n",
       "      <th>min</th>\n",
       "      <td>5.574490e+01</td>\n",
       "      <td>37.602018</td>\n",
       "      <td>147.000000</td>\n",
       "    </tr>\n",
       "    <tr>\n",
       "      <th>25%</th>\n",
       "      <td>5.574490e+01</td>\n",
       "      <td>37.602018</td>\n",
       "      <td>276.750000</td>\n",
       "    </tr>\n",
       "    <tr>\n",
       "      <th>50%</th>\n",
       "      <td>5.574490e+01</td>\n",
       "      <td>37.602018</td>\n",
       "      <td>342.000000</td>\n",
       "    </tr>\n",
       "    <tr>\n",
       "      <th>75%</th>\n",
       "      <td>5.574490e+01</td>\n",
       "      <td>37.602018</td>\n",
       "      <td>443.250000</td>\n",
       "    </tr>\n",
       "    <tr>\n",
       "      <th>max</th>\n",
       "      <td>5.574490e+01</td>\n",
       "      <td>37.602018</td>\n",
       "      <td>503.000000</td>\n",
       "    </tr>\n",
       "  </tbody>\n",
       "</table>\n",
       "</div>"
      ],
      "text/plain": [
       "       Neighbourhood Latitude  Neighbourhood Longitude  Venue Distance\n",
       "count            1.400000e+01                14.000000       14.000000\n",
       "mean             5.574490e+01                37.602018      354.000000\n",
       "std              1.474730e-14                 0.000000      102.424456\n",
       "min              5.574490e+01                37.602018      147.000000\n",
       "25%              5.574490e+01                37.602018      276.750000\n",
       "50%              5.574490e+01                37.602018      342.000000\n",
       "75%              5.574490e+01                37.602018      443.250000\n",
       "max              5.574490e+01                37.602018      503.000000"
      ]
     },
     "execution_count": 16,
     "metadata": {},
     "output_type": "execute_result"
    }
   ],
   "source": [
    "s.describe()"
   ]
  },
  {
   "cell_type": "code",
   "execution_count": 17,
   "metadata": {},
   "outputs": [
    {
     "name": "stdout",
     "output_type": "stream",
     "text": [
      "<class 'pandas.core.frame.DataFrame'>\n",
      "RangeIndex: 778 entries, 0 to 777\n",
      "Data columns (total 4 columns):\n",
      " #   Column              Non-Null Count  Dtype  \n",
      "---  ------              --------------  -----  \n",
      " 0   Unnamed: 0          778 non-null    int64  \n",
      " 1   latitude            778 non-null    float64\n",
      " 2   longitude           778 non-null    float64\n",
      " 3   extra.normal_bikes  778 non-null    int64  \n",
      "dtypes: float64(2), int64(2)\n",
      "memory usage: 24.4 KB\n"
     ]
    }
   ],
   "source": [
    "r.info()"
   ]
  },
  {
   "cell_type": "code",
   "execution_count": 18,
   "metadata": {},
   "outputs": [
    {
     "name": "stdout",
     "output_type": "stream",
     "text": [
      "<class 'pandas.core.frame.DataFrame'>\n",
      "RangeIndex: 14 entries, 0 to 13\n",
      "Data columns (total 4 columns):\n",
      " #   Column                   Non-Null Count  Dtype  \n",
      "---  ------                   --------------  -----  \n",
      " 0   Neighbourhood Latitude   14 non-null     float64\n",
      " 1   Neighbourhood Longitude  14 non-null     float64\n",
      " 2   Venue Distance           14 non-null     int64  \n",
      " 3   Venue Name               14 non-null     object \n",
      "dtypes: float64(2), int64(1), object(1)\n",
      "memory usage: 580.0+ bytes\n"
     ]
    }
   ],
   "source": [
    "s.info()"
   ]
  },
  {
   "cell_type": "code",
   "execution_count": 19,
   "metadata": {},
   "outputs": [
    {
     "data": {
      "text/plain": [
       "Unnamed: 0  latitude   longitude  extra.normal_bikes\n",
       "0           55.744901  37.602018  5                     1\n",
       "534         55.735005  37.656280  8                     1\n",
       "512         55.756850  37.524930  7                     1\n",
       "513         55.818630  37.637230  9                     1\n",
       "514         55.719500  37.463620  7                     1\n",
       "                                                       ..\n",
       "262         55.758471  37.614207  10                    1\n",
       "263         55.776742  37.506187  13                    1\n",
       "264         55.737193  37.568374  9                     1\n",
       "265         55.768817  37.684929  0                     1\n",
       "777         55.721770  37.561740  13                    1\n",
       "Length: 778, dtype: int64"
      ]
     },
     "execution_count": 19,
     "metadata": {},
     "output_type": "execute_result"
    }
   ],
   "source": [
    "r.value_counts()"
   ]
  },
  {
   "cell_type": "code",
   "execution_count": 20,
   "metadata": {},
   "outputs": [
    {
     "data": {
      "text/plain": [
       "Neighbourhood Latitude  Neighbourhood Longitude  Venue Distance  Venue Name\n",
       "55.744901               37.602018                147             Playground    1\n",
       "                                                 251             Park          1\n",
       "                                                 262             Playground    1\n",
       "                                                 270             Park          1\n",
       "                                                 297             Park          1\n",
       "                                                 325             Park          1\n",
       "                                                 337             Playground    1\n",
       "                                                 347             Playground    1\n",
       "                                                 426             Park          1\n",
       "                                                 435             Park          1\n",
       "                                                 446             Park          1\n",
       "                                                                 Playground    1\n",
       "                                                 464             Playground    1\n",
       "                                                 503             Playground    1\n",
       "dtype: int64"
      ]
     },
     "execution_count": 20,
     "metadata": {},
     "output_type": "execute_result"
    }
   ],
   "source": [
    "s.value_counts()"
   ]
  },
  {
   "cell_type": "code",
   "execution_count": 40,
   "metadata": {},
   "outputs": [
    {
     "ename": "ValueError",
     "evalue": "could not convert string to float: 'Park'",
     "output_type": "error",
     "traceback": [
      "\u001b[1;31m---------------------------------------------------------------------------\u001b[0m",
      "\u001b[1;31mValueError\u001b[0m                                Traceback (most recent call last)",
      "\u001b[1;32mc:\\Users\\sarab\\OneDrive\\Desktop\\Python\\Updated\\model_building.ipynb Cell 19\u001b[0m line \u001b[0;36m1\n\u001b[0;32m      <a href='vscode-notebook-cell:/c%3A/Users/sarab/OneDrive/Desktop/Python/Updated/model_building.ipynb#X32sZmlsZQ%3D%3D?line=6'>7</a>\u001b[0m lr \u001b[39m=\u001b[39m LinearRegression()\n\u001b[0;32m      <a href='vscode-notebook-cell:/c%3A/Users/sarab/OneDrive/Desktop/Python/Updated/model_building.ipynb#X32sZmlsZQ%3D%3D?line=8'>9</a>\u001b[0m \u001b[39m#Fitting model\u001b[39;00m\n\u001b[1;32m---> <a href='vscode-notebook-cell:/c%3A/Users/sarab/OneDrive/Desktop/Python/Updated/model_building.ipynb#X32sZmlsZQ%3D%3D?line=9'>10</a>\u001b[0m lr\u001b[39m.\u001b[39mfit(r, s)\n\u001b[0;32m     <a href='vscode-notebook-cell:/c%3A/Users/sarab/OneDrive/Desktop/Python/Updated/model_building.ipynb#X32sZmlsZQ%3D%3D?line=11'>12</a>\u001b[0m \u001b[39m#Evaluating the model fit\u001b[39;00m\n\u001b[0;32m     <a href='vscode-notebook-cell:/c%3A/Users/sarab/OneDrive/Desktop/Python/Updated/model_building.ipynb#X32sZmlsZQ%3D%3D?line=12'>13</a>\u001b[0m lr\u001b[39m.\u001b[39mscore(r, s)\n",
      "File \u001b[1;32mc:\\Users\\sarab\\anaconda3\\Lib\\site-packages\\sklearn\\linear_model\\_base.py:648\u001b[0m, in \u001b[0;36mLinearRegression.fit\u001b[1;34m(self, X, y, sample_weight)\u001b[0m\n\u001b[0;32m    644\u001b[0m n_jobs_ \u001b[39m=\u001b[39m \u001b[39mself\u001b[39m\u001b[39m.\u001b[39mn_jobs\n\u001b[0;32m    646\u001b[0m accept_sparse \u001b[39m=\u001b[39m \u001b[39mFalse\u001b[39;00m \u001b[39mif\u001b[39;00m \u001b[39mself\u001b[39m\u001b[39m.\u001b[39mpositive \u001b[39melse\u001b[39;00m [\u001b[39m\"\u001b[39m\u001b[39mcsr\u001b[39m\u001b[39m\"\u001b[39m, \u001b[39m\"\u001b[39m\u001b[39mcsc\u001b[39m\u001b[39m\"\u001b[39m, \u001b[39m\"\u001b[39m\u001b[39mcoo\u001b[39m\u001b[39m\"\u001b[39m]\n\u001b[1;32m--> 648\u001b[0m X, y \u001b[39m=\u001b[39m \u001b[39mself\u001b[39m\u001b[39m.\u001b[39m_validate_data(\n\u001b[0;32m    649\u001b[0m     X, y, accept_sparse\u001b[39m=\u001b[39maccept_sparse, y_numeric\u001b[39m=\u001b[39m\u001b[39mTrue\u001b[39;00m, multi_output\u001b[39m=\u001b[39m\u001b[39mTrue\u001b[39;00m\n\u001b[0;32m    650\u001b[0m )\n\u001b[0;32m    652\u001b[0m sample_weight \u001b[39m=\u001b[39m _check_sample_weight(\n\u001b[0;32m    653\u001b[0m     sample_weight, X, dtype\u001b[39m=\u001b[39mX\u001b[39m.\u001b[39mdtype, only_non_negative\u001b[39m=\u001b[39m\u001b[39mTrue\u001b[39;00m\n\u001b[0;32m    654\u001b[0m )\n\u001b[0;32m    656\u001b[0m X, y, X_offset, y_offset, X_scale \u001b[39m=\u001b[39m _preprocess_data(\n\u001b[0;32m    657\u001b[0m     X,\n\u001b[0;32m    658\u001b[0m     y,\n\u001b[1;32m   (...)\u001b[0m\n\u001b[0;32m    661\u001b[0m     sample_weight\u001b[39m=\u001b[39msample_weight,\n\u001b[0;32m    662\u001b[0m )\n",
      "File \u001b[1;32mc:\\Users\\sarab\\anaconda3\\Lib\\site-packages\\sklearn\\base.py:584\u001b[0m, in \u001b[0;36mBaseEstimator._validate_data\u001b[1;34m(self, X, y, reset, validate_separately, **check_params)\u001b[0m\n\u001b[0;32m    582\u001b[0m         y \u001b[39m=\u001b[39m check_array(y, input_name\u001b[39m=\u001b[39m\u001b[39m\"\u001b[39m\u001b[39my\u001b[39m\u001b[39m\"\u001b[39m, \u001b[39m*\u001b[39m\u001b[39m*\u001b[39mcheck_y_params)\n\u001b[0;32m    583\u001b[0m     \u001b[39melse\u001b[39;00m:\n\u001b[1;32m--> 584\u001b[0m         X, y \u001b[39m=\u001b[39m check_X_y(X, y, \u001b[39m*\u001b[39m\u001b[39m*\u001b[39mcheck_params)\n\u001b[0;32m    585\u001b[0m     out \u001b[39m=\u001b[39m X, y\n\u001b[0;32m    587\u001b[0m \u001b[39mif\u001b[39;00m \u001b[39mnot\u001b[39;00m no_val_X \u001b[39mand\u001b[39;00m check_params\u001b[39m.\u001b[39mget(\u001b[39m\"\u001b[39m\u001b[39mensure_2d\u001b[39m\u001b[39m\"\u001b[39m, \u001b[39mTrue\u001b[39;00m):\n",
      "File \u001b[1;32mc:\\Users\\sarab\\anaconda3\\Lib\\site-packages\\sklearn\\utils\\validation.py:1122\u001b[0m, in \u001b[0;36mcheck_X_y\u001b[1;34m(X, y, accept_sparse, accept_large_sparse, dtype, order, copy, force_all_finite, ensure_2d, allow_nd, multi_output, ensure_min_samples, ensure_min_features, y_numeric, estimator)\u001b[0m\n\u001b[0;32m   1102\u001b[0m     \u001b[39mraise\u001b[39;00m \u001b[39mValueError\u001b[39;00m(\n\u001b[0;32m   1103\u001b[0m         \u001b[39mf\u001b[39m\u001b[39m\"\u001b[39m\u001b[39m{\u001b[39;00mestimator_name\u001b[39m}\u001b[39;00m\u001b[39m requires y to be passed, but the target y is None\u001b[39m\u001b[39m\"\u001b[39m\n\u001b[0;32m   1104\u001b[0m     )\n\u001b[0;32m   1106\u001b[0m X \u001b[39m=\u001b[39m check_array(\n\u001b[0;32m   1107\u001b[0m     X,\n\u001b[0;32m   1108\u001b[0m     accept_sparse\u001b[39m=\u001b[39maccept_sparse,\n\u001b[1;32m   (...)\u001b[0m\n\u001b[0;32m   1119\u001b[0m     input_name\u001b[39m=\u001b[39m\u001b[39m\"\u001b[39m\u001b[39mX\u001b[39m\u001b[39m\"\u001b[39m,\n\u001b[0;32m   1120\u001b[0m )\n\u001b[1;32m-> 1122\u001b[0m y \u001b[39m=\u001b[39m _check_y(y, multi_output\u001b[39m=\u001b[39mmulti_output, y_numeric\u001b[39m=\u001b[39my_numeric, estimator\u001b[39m=\u001b[39mestimator)\n\u001b[0;32m   1124\u001b[0m check_consistent_length(X, y)\n\u001b[0;32m   1126\u001b[0m \u001b[39mreturn\u001b[39;00m X, y\n",
      "File \u001b[1;32mc:\\Users\\sarab\\anaconda3\\Lib\\site-packages\\sklearn\\utils\\validation.py:1147\u001b[0m, in \u001b[0;36m_check_y\u001b[1;34m(y, multi_output, y_numeric, estimator)\u001b[0m\n\u001b[0;32m   1145\u001b[0m     _ensure_no_complex_data(y)\n\u001b[0;32m   1146\u001b[0m \u001b[39mif\u001b[39;00m y_numeric \u001b[39mand\u001b[39;00m y\u001b[39m.\u001b[39mdtype\u001b[39m.\u001b[39mkind \u001b[39m==\u001b[39m \u001b[39m\"\u001b[39m\u001b[39mO\u001b[39m\u001b[39m\"\u001b[39m:\n\u001b[1;32m-> 1147\u001b[0m     y \u001b[39m=\u001b[39m y\u001b[39m.\u001b[39mastype(np\u001b[39m.\u001b[39mfloat64)\n\u001b[0;32m   1149\u001b[0m \u001b[39mreturn\u001b[39;00m y\n",
      "\u001b[1;31mValueError\u001b[0m: could not convert string to float: 'Park'"
     ]
    }
   ],
   "source": [
    "from sklearn import linear_model, datasets\n",
    "from scipy import stats\n",
    "from sklearn import linear_model\n",
    "from sklearn.linear_model import LinearRegression\n",
    "##class sklearn.linear_model.LinearRegression(*, fit_intercept=True, copy_X=True, n_jobs=None, positive=False)\n",
    "#Simple Linear Regression Object\n",
    "lr = LinearRegression()\n",
    "\n",
    "#Fitting model\n",
    "lr.fit(r, s)\n",
    "\n",
    "#Evaluating the model fit\n",
    "lr.score(r, s)\n",
    "\n",
    "\n",
    "model = linear_model.fit()\n",
    "print_model = model.summary()"
   ]
  },
  {
   "cell_type": "markdown",
   "metadata": {},
   "source": [
    "Provide model output and an interpretation of the results. "
   ]
  },
  {
   "cell_type": "code",
   "execution_count": 8,
   "metadata": {},
   "outputs": [
    {
     "ename": "ValueError",
     "evalue": "Pandas data cast to numpy dtype of object. Check input data with np.asarray(data). The types seen wereNone and const       float64\ncityname     object\ndtype: object. The data was\n0    venues\nName: venuename, dtype: object\nand\n    const  cityname\n0    1.0  citybike\nbefore. After,\n['venues']\n[[1.0 'citybike']].",
     "output_type": "error",
     "traceback": [
      "\u001b[1;31m---------------------------------------------------------------------------\u001b[0m",
      "\u001b[1;31mValueError\u001b[0m                                Traceback (most recent call last)",
      "Cell \u001b[1;32mIn[8], line 18\u001b[0m\n\u001b[0;32m     16\u001b[0m y \u001b[39m=\u001b[39m pd\u001b[39m.\u001b[39mSeries([\u001b[39m'\u001b[39m\u001b[39mvenues\u001b[39m\u001b[39m'\u001b[39m],name\u001b[39m=\u001b[39m[\u001b[39m'\u001b[39m\u001b[39mvenuename\u001b[39m\u001b[39m'\u001b[39m][\u001b[39m0\u001b[39m])\n\u001b[0;32m     17\u001b[0m X \u001b[39m=\u001b[39m sm\u001b[39m.\u001b[39madd_constant(X) \u001b[39m# adding a constant\u001b[39;00m\n\u001b[1;32m---> 18\u001b[0m lin_reg \u001b[39m=\u001b[39m sm\u001b[39m.\u001b[39mOLS(y,X)\n\u001b[0;32m     19\u001b[0m model \u001b[39m=\u001b[39m lin_reg\u001b[39m.\u001b[39mfit()\n\u001b[0;32m     20\u001b[0m print_model \u001b[39m=\u001b[39m model\u001b[39m.\u001b[39msummary()\n",
      "File \u001b[1;32mc:\\Users\\sarab\\anaconda3\\Lib\\site-packages\\statsmodels\\regression\\linear_model.py:906\u001b[0m, in \u001b[0;36mOLS.__init__\u001b[1;34m(self, endog, exog, missing, hasconst, **kwargs)\u001b[0m\n\u001b[0;32m    903\u001b[0m     msg \u001b[39m=\u001b[39m (\u001b[39m\"\u001b[39m\u001b[39mWeights are not supported in OLS and will be ignored\u001b[39m\u001b[39m\"\u001b[39m\n\u001b[0;32m    904\u001b[0m            \u001b[39m\"\u001b[39m\u001b[39mAn exception will be raised in the next version.\u001b[39m\u001b[39m\"\u001b[39m)\n\u001b[0;32m    905\u001b[0m     warnings\u001b[39m.\u001b[39mwarn(msg, ValueWarning)\n\u001b[1;32m--> 906\u001b[0m \u001b[39msuper\u001b[39m(OLS, \u001b[39mself\u001b[39m)\u001b[39m.\u001b[39m\u001b[39m__init__\u001b[39m(endog, exog, missing\u001b[39m=\u001b[39mmissing,\n\u001b[0;32m    907\u001b[0m                           hasconst\u001b[39m=\u001b[39mhasconst, \u001b[39m*\u001b[39m\u001b[39m*\u001b[39mkwargs)\n\u001b[0;32m    908\u001b[0m \u001b[39mif\u001b[39;00m \u001b[39m\"\u001b[39m\u001b[39mweights\u001b[39m\u001b[39m\"\u001b[39m \u001b[39min\u001b[39;00m \u001b[39mself\u001b[39m\u001b[39m.\u001b[39m_init_keys:\n\u001b[0;32m    909\u001b[0m     \u001b[39mself\u001b[39m\u001b[39m.\u001b[39m_init_keys\u001b[39m.\u001b[39mremove(\u001b[39m\"\u001b[39m\u001b[39mweights\u001b[39m\u001b[39m\"\u001b[39m)\n",
      "File \u001b[1;32mc:\\Users\\sarab\\anaconda3\\Lib\\site-packages\\statsmodels\\regression\\linear_model.py:733\u001b[0m, in \u001b[0;36mWLS.__init__\u001b[1;34m(self, endog, exog, weights, missing, hasconst, **kwargs)\u001b[0m\n\u001b[0;32m    731\u001b[0m \u001b[39melse\u001b[39;00m:\n\u001b[0;32m    732\u001b[0m     weights \u001b[39m=\u001b[39m weights\u001b[39m.\u001b[39msqueeze()\n\u001b[1;32m--> 733\u001b[0m \u001b[39msuper\u001b[39m(WLS, \u001b[39mself\u001b[39m)\u001b[39m.\u001b[39m\u001b[39m__init__\u001b[39m(endog, exog, missing\u001b[39m=\u001b[39mmissing,\n\u001b[0;32m    734\u001b[0m                           weights\u001b[39m=\u001b[39mweights, hasconst\u001b[39m=\u001b[39mhasconst, \u001b[39m*\u001b[39m\u001b[39m*\u001b[39mkwargs)\n\u001b[0;32m    735\u001b[0m nobs \u001b[39m=\u001b[39m \u001b[39mself\u001b[39m\u001b[39m.\u001b[39mexog\u001b[39m.\u001b[39mshape[\u001b[39m0\u001b[39m]\n\u001b[0;32m    736\u001b[0m weights \u001b[39m=\u001b[39m \u001b[39mself\u001b[39m\u001b[39m.\u001b[39mweights\n",
      "File \u001b[1;32mc:\\Users\\sarab\\anaconda3\\Lib\\site-packages\\statsmodels\\regression\\linear_model.py:190\u001b[0m, in \u001b[0;36mRegressionModel.__init__\u001b[1;34m(self, endog, exog, **kwargs)\u001b[0m\n\u001b[0;32m    189\u001b[0m \u001b[39mdef\u001b[39;00m \u001b[39m__init__\u001b[39m(\u001b[39mself\u001b[39m, endog, exog, \u001b[39m*\u001b[39m\u001b[39m*\u001b[39mkwargs):\n\u001b[1;32m--> 190\u001b[0m     \u001b[39msuper\u001b[39m(RegressionModel, \u001b[39mself\u001b[39m)\u001b[39m.\u001b[39m\u001b[39m__init__\u001b[39m(endog, exog, \u001b[39m*\u001b[39m\u001b[39m*\u001b[39mkwargs)\n\u001b[0;32m    191\u001b[0m     \u001b[39mself\u001b[39m\u001b[39m.\u001b[39m_data_attr\u001b[39m.\u001b[39mextend([\u001b[39m'\u001b[39m\u001b[39mpinv_wexog\u001b[39m\u001b[39m'\u001b[39m, \u001b[39m'\u001b[39m\u001b[39mwendog\u001b[39m\u001b[39m'\u001b[39m, \u001b[39m'\u001b[39m\u001b[39mwexog\u001b[39m\u001b[39m'\u001b[39m, \u001b[39m'\u001b[39m\u001b[39mweights\u001b[39m\u001b[39m'\u001b[39m])\n",
      "File \u001b[1;32mc:\\Users\\sarab\\anaconda3\\Lib\\site-packages\\statsmodels\\base\\model.py:267\u001b[0m, in \u001b[0;36mLikelihoodModel.__init__\u001b[1;34m(self, endog, exog, **kwargs)\u001b[0m\n\u001b[0;32m    266\u001b[0m \u001b[39mdef\u001b[39;00m \u001b[39m__init__\u001b[39m(\u001b[39mself\u001b[39m, endog, exog\u001b[39m=\u001b[39m\u001b[39mNone\u001b[39;00m, \u001b[39m*\u001b[39m\u001b[39m*\u001b[39mkwargs):\n\u001b[1;32m--> 267\u001b[0m     \u001b[39msuper\u001b[39m()\u001b[39m.\u001b[39m\u001b[39m__init__\u001b[39m(endog, exog, \u001b[39m*\u001b[39m\u001b[39m*\u001b[39mkwargs)\n\u001b[0;32m    268\u001b[0m     \u001b[39mself\u001b[39m\u001b[39m.\u001b[39minitialize()\n",
      "File \u001b[1;32mc:\\Users\\sarab\\anaconda3\\Lib\\site-packages\\statsmodels\\base\\model.py:92\u001b[0m, in \u001b[0;36mModel.__init__\u001b[1;34m(self, endog, exog, **kwargs)\u001b[0m\n\u001b[0;32m     90\u001b[0m missing \u001b[39m=\u001b[39m kwargs\u001b[39m.\u001b[39mpop(\u001b[39m'\u001b[39m\u001b[39mmissing\u001b[39m\u001b[39m'\u001b[39m, \u001b[39m'\u001b[39m\u001b[39mnone\u001b[39m\u001b[39m'\u001b[39m)\n\u001b[0;32m     91\u001b[0m hasconst \u001b[39m=\u001b[39m kwargs\u001b[39m.\u001b[39mpop(\u001b[39m'\u001b[39m\u001b[39mhasconst\u001b[39m\u001b[39m'\u001b[39m, \u001b[39mNone\u001b[39;00m)\n\u001b[1;32m---> 92\u001b[0m \u001b[39mself\u001b[39m\u001b[39m.\u001b[39mdata \u001b[39m=\u001b[39m \u001b[39mself\u001b[39m\u001b[39m.\u001b[39m_handle_data(endog, exog, missing, hasconst,\n\u001b[0;32m     93\u001b[0m                               \u001b[39m*\u001b[39m\u001b[39m*\u001b[39mkwargs)\n\u001b[0;32m     94\u001b[0m \u001b[39mself\u001b[39m\u001b[39m.\u001b[39mk_constant \u001b[39m=\u001b[39m \u001b[39mself\u001b[39m\u001b[39m.\u001b[39mdata\u001b[39m.\u001b[39mk_constant\n\u001b[0;32m     95\u001b[0m \u001b[39mself\u001b[39m\u001b[39m.\u001b[39mexog \u001b[39m=\u001b[39m \u001b[39mself\u001b[39m\u001b[39m.\u001b[39mdata\u001b[39m.\u001b[39mexog\n",
      "File \u001b[1;32mc:\\Users\\sarab\\anaconda3\\Lib\\site-packages\\statsmodels\\base\\model.py:132\u001b[0m, in \u001b[0;36mModel._handle_data\u001b[1;34m(self, endog, exog, missing, hasconst, **kwargs)\u001b[0m\n\u001b[0;32m    131\u001b[0m \u001b[39mdef\u001b[39;00m \u001b[39m_handle_data\u001b[39m(\u001b[39mself\u001b[39m, endog, exog, missing, hasconst, \u001b[39m*\u001b[39m\u001b[39m*\u001b[39mkwargs):\n\u001b[1;32m--> 132\u001b[0m     data \u001b[39m=\u001b[39m handle_data(endog, exog, missing, hasconst, \u001b[39m*\u001b[39m\u001b[39m*\u001b[39mkwargs)\n\u001b[0;32m    133\u001b[0m     \u001b[39m# kwargs arrays could have changed, easier to just attach here\u001b[39;00m\n\u001b[0;32m    134\u001b[0m     \u001b[39mfor\u001b[39;00m key \u001b[39min\u001b[39;00m kwargs:\n",
      "File \u001b[1;32mc:\\Users\\sarab\\anaconda3\\Lib\\site-packages\\statsmodels\\base\\data.py:700\u001b[0m, in \u001b[0;36mhandle_data\u001b[1;34m(endog, exog, missing, hasconst, **kwargs)\u001b[0m\n\u001b[0;32m    697\u001b[0m     exog \u001b[39m=\u001b[39m np\u001b[39m.\u001b[39masarray(exog)\n\u001b[0;32m    699\u001b[0m klass \u001b[39m=\u001b[39m handle_data_class_factory(endog, exog)\n\u001b[1;32m--> 700\u001b[0m \u001b[39mreturn\u001b[39;00m klass(endog, exog\u001b[39m=\u001b[39mexog, missing\u001b[39m=\u001b[39mmissing, hasconst\u001b[39m=\u001b[39mhasconst,\n\u001b[0;32m    701\u001b[0m              \u001b[39m*\u001b[39m\u001b[39m*\u001b[39mkwargs)\n",
      "File \u001b[1;32mc:\\Users\\sarab\\anaconda3\\Lib\\site-packages\\statsmodels\\base\\data.py:84\u001b[0m, in \u001b[0;36mModelData.__init__\u001b[1;34m(self, endog, exog, missing, hasconst, **kwargs)\u001b[0m\n\u001b[0;32m     82\u001b[0m     \u001b[39mself\u001b[39m\u001b[39m.\u001b[39morig_endog \u001b[39m=\u001b[39m endog\n\u001b[0;32m     83\u001b[0m     \u001b[39mself\u001b[39m\u001b[39m.\u001b[39morig_exog \u001b[39m=\u001b[39m exog\n\u001b[1;32m---> 84\u001b[0m     \u001b[39mself\u001b[39m\u001b[39m.\u001b[39mendog, \u001b[39mself\u001b[39m\u001b[39m.\u001b[39mexog \u001b[39m=\u001b[39m \u001b[39mself\u001b[39m\u001b[39m.\u001b[39m_convert_endog_exog(endog, exog)\n\u001b[0;32m     86\u001b[0m \u001b[39mself\u001b[39m\u001b[39m.\u001b[39mconst_idx \u001b[39m=\u001b[39m \u001b[39mNone\u001b[39;00m\n\u001b[0;32m     87\u001b[0m \u001b[39mself\u001b[39m\u001b[39m.\u001b[39mk_constant \u001b[39m=\u001b[39m \u001b[39m0\u001b[39m\n",
      "File \u001b[1;32mc:\\Users\\sarab\\anaconda3\\Lib\\site-packages\\statsmodels\\base\\data.py:530\u001b[0m, in \u001b[0;36mPandasData._convert_endog_exog\u001b[1;34m(self, endog, exog)\u001b[0m\n\u001b[0;32m    528\u001b[0m     \u001b[39melse\u001b[39;00m:\n\u001b[0;32m    529\u001b[0m         exog_dtype \u001b[39m=\u001b[39m \u001b[39mNone\u001b[39;00m\n\u001b[1;32m--> 530\u001b[0m     \u001b[39mraise\u001b[39;00m \u001b[39mValueError\u001b[39;00m(\n\u001b[0;32m    531\u001b[0m         \u001b[39m\"\u001b[39m\u001b[39mPandas data cast to numpy dtype of object. Check input data \u001b[39m\u001b[39m\"\u001b[39m\n\u001b[0;32m    532\u001b[0m         \u001b[39m\"\u001b[39m\u001b[39mwith np.asarray(data). The types seen were\u001b[39m\u001b[39m\"\u001b[39m\n\u001b[0;32m    533\u001b[0m         \u001b[39mf\u001b[39m\u001b[39m\"\u001b[39m\u001b[39m{\u001b[39;00mendog_dtype\u001b[39m}\u001b[39;00m\u001b[39m and \u001b[39m\u001b[39m{\u001b[39;00mexog_dtype\u001b[39m}\u001b[39;00m\u001b[39m. The data was\u001b[39m\u001b[39m\\n\u001b[39;00m\u001b[39m\"\u001b[39m\n\u001b[0;32m    534\u001b[0m         \u001b[39mf\u001b[39m\u001b[39m\"\u001b[39m\u001b[39m{\u001b[39;00morig_endog\u001b[39m}\u001b[39;00m\u001b[39m\\n\u001b[39;00m\u001b[39mand\u001b[39m\u001b[39m\\n\u001b[39;00m\u001b[39m \u001b[39m\u001b[39m{\u001b[39;00morig_exog\u001b[39m}\u001b[39;00m\u001b[39m\\n\u001b[39;00m\u001b[39mbefore. After,\u001b[39m\u001b[39m\\n\u001b[39;00m\u001b[39m{\u001b[39;00mendog\u001b[39m}\u001b[39;00m\u001b[39m\\n\u001b[39;00m\u001b[39m{\u001b[39;00mexog\u001b[39m}\u001b[39;00m\u001b[39m.\u001b[39m\u001b[39m\"\u001b[39m\n\u001b[0;32m    535\u001b[0m     )\n\u001b[0;32m    536\u001b[0m \u001b[39mreturn\u001b[39;00m \u001b[39msuper\u001b[39m(PandasData, \u001b[39mself\u001b[39m)\u001b[39m.\u001b[39m_convert_endog_exog(endog, exog)\n",
      "\u001b[1;31mValueError\u001b[0m: Pandas data cast to numpy dtype of object. Check input data with np.asarray(data). The types seen wereNone and const       float64\ncityname     object\ndtype: object. The data was\n0    venues\nName: venuename, dtype: object\nand\n    const  cityname\n0    1.0  citybike\nbefore. After,\n['venues']\n[[1.0 'citybike']]."
     ]
    }
   ],
   "source": [
    "# import numpy\n",
    "import numpy as np\n",
    "import pandas as pd\n",
    "\n",
    "# import linear_model and datasets from sklearn\n",
    "from sklearn import linear_model, datasets\n",
    "## import statsmodels.api as sm\n",
    "import statsmodels\n",
    "\n",
    "r = pd.read_csv('citybike.csv')\n",
    "s = pd.read_csv('venues.csv')\n",
    "frames = [r,s]\n",
    "# results = pd.concat(frames)\n",
    "# print(results)\n",
    "X = pd.DataFrame(['citybike'],columns =['cityname'])\n",
    "y = pd.Series(['venues'],name=['venuename'][0])\n",
    "X = sm.add_constant(X) # adding a constant\n",
    "lin_reg = sm.OLS(y,X)\n",
    "model = lin_reg.fit()\n",
    "print_model = model.summary()\n",
    "print(print_model)"
   ]
  },
  {
   "cell_type": "code",
   "execution_count": 37,
   "metadata": {},
   "outputs": [
    {
     "ename": "ValueError",
     "evalue": "Pandas data cast to numpy dtype of object. Check input data with np.asarray(data). The types seen wereNeighbourhood Latitude     float64\nNeighbourhood Longitude    float64\nVenue Distance               int64\nVenue Name                  object\ndtype: object and None. The data was\n    Neighbourhood Latitude  Neighbourhood Longitude  Venue Distance  \\\n0                55.744901                37.602018             270   \n1                55.744901                37.602018             147   \n2                55.744901                37.602018             251   \n3                55.744901                37.602018             262   \n4                55.744901                37.602018             297   \n5                55.744901                37.602018             325   \n6                55.744901                37.602018             337   \n7                55.744901                37.602018             347   \n8                55.744901                37.602018             426   \n9                55.744901                37.602018             435   \n10               55.744901                37.602018             446   \n11               55.744901                37.602018             446   \n12               55.744901                37.602018             464   \n13               55.744901                37.602018             503   \n\n    Venue Name  \n0         Park  \n1   Playground  \n2         Park  \n3   Playground  \n4         Park  \n5         Park  \n6   Playground  \n7   Playground  \n8         Park  \n9         Park  \n10  Playground  \n11        Park  \n12  Playground  \n13  Playground  \nand\n 0      37.602018\n1      37.520553\n2      37.592390\n3      37.614473\n4      37.604464\n         ...    \n773    37.610879\n774    37.651250\n775    37.799031\n776    37.400279\n777    37.561740\nName: longitude, Length: 778, dtype: float64\nbefore. After,\n[[55.7449006 37.6020183 270 'Park']\n [55.7449006 37.6020183 147 'Playground']\n [55.7449006 37.6020183 251 'Park']\n [55.7449006 37.6020183 262 'Playground']\n [55.7449006 37.6020183 297 'Park']\n [55.7449006 37.6020183 325 'Park']\n [55.7449006 37.6020183 337 'Playground']\n [55.7449006 37.6020183 347 'Playground']\n [55.7449006 37.6020183 426 'Park']\n [55.7449006 37.6020183 435 'Park']\n [55.7449006 37.6020183 446 'Playground']\n [55.7449006 37.6020183 446 'Park']\n [55.7449006 37.6020183 464 'Playground']\n [55.7449006 37.6020183 503 'Playground']]\n[37.6020183  37.5205529  37.59239    37.6144726  37.6044645  37.609836\n 37.60059278 37.6086772  37.601473   37.6052356  37.60948944 37.6316201\n 37.645665   37.64735028 37.6257601  37.596925   37.58986389 37.5864\n 37.58348611 37.57798889 37.56952222 37.5937289  37.583821   37.579058\n 37.575858   37.581356   37.580778   37.569297   37.559608   37.570481\n 37.614186   37.632814   37.5905396  37.6225279  37.6290169  37.6334722\n 37.6347031  37.6365455  37.5765806  37.6465038  37.6591375  37.6225146\n 37.572725   37.6320952  37.5393069  37.6066403  37.5953863  37.5268164\n 37.5341468  37.604728   37.5775101  37.565242   37.6248436  37.545765\n 37.576594   37.564743   37.562443   37.561994   37.632794   37.634929\n 37.62838    37.6086074  37.6195157  37.5622227  37.5838691  37.5201069\n 37.5326129  37.6080312  37.5389143  37.5595989  37.60962    37.523769\n 37.59311    37.5529893  37.5639941  37.5820766  37.4953587  37.6163822\n 37.6317848  37.6393391  37.647529   37.6541501  37.623526   37.5802\n 37.5805768  37.5942708  37.6010653  37.617075   37.6391911  37.6159792\n 37.6265178  37.6333164  37.645458   37.6331175  37.5192587  37.539523\n 37.5629419  37.5710478  37.6079968  37.56871    37.6089126  37.6023012\n 37.5897749  37.5741987  37.6048252  37.5999825  37.641671   37.5006237\n 37.641517   37.657647   37.6158903  37.5959992  37.6182931  37.6414493\n 37.616547   37.6101276  37.656429   37.6520953  37.5997037  37.5745946\n 37.642574   37.535522   37.526472   37.541377   37.554776   37.540695\n 37.5701523  37.557668   37.5529925  37.5397093  37.6095579  37.6299313\n 37.6168972  37.65385    37.5708842  37.5719413  37.5145855  37.5880136\n 37.53454    37.5372313  37.6057778  37.579688   37.5300029  37.6599869\n 37.6944615  37.6994467  37.6363469  37.6661093  37.6376553  37.6788565\n 37.635781   37.6220242  37.615425   37.6197354  37.663779   37.5382933\n 37.5212052  37.647211   37.612442   37.520142   37.6002618  37.5757323\n 37.5605165  37.6571565  37.5517684  37.5465367  37.5861519  37.6046504\n 37.612528   37.6429131  37.5730793  37.543724   37.61731    37.558939\n 37.6192664  37.587921   37.5942492  37.622305   37.576753   37.528489\n 37.522672   37.6090521  37.58823    37.594296   37.543148   37.638913\n 37.514291   37.530847   37.5457088  37.56551    37.5830376  37.5256107\n 37.6763299  37.5963795  37.621316   37.6374584  37.49521    37.6501702\n 37.6042362  37.6341961  37.6250142  37.599867   37.631618   37.639141\n 37.584725   37.6178259  37.62786    37.589078   37.6167027  37.648355\n 37.636329   37.598667   37.613347   37.615807   37.625638   37.5852946\n 37.576903   37.620018   37.6223722  37.599413   37.6202     37.550435\n 37.623177   37.57797    37.56245    37.586215   37.592209   37.535463\n 37.533756   37.5776708  37.6386809  37.5870704  37.5841     37.621486\n 37.6212721  37.6358074  37.5455944  37.6116459  37.5896349  37.6286203\n 37.6276564  37.6121883  37.53978    37.52036    37.54216    37.5655623\n 37.5073382  37.530764   37.529704   37.6080592  37.5943736  37.56091\n 37.5890604  37.5159465  37.55366    37.5072476  37.5521608  37.54917\n 37.649046   37.5492     37.59244    37.55135    37.6142074  37.506187\n 37.5683739  37.684929   37.5916535  37.670731   37.4960883  37.49611\n 37.53766    37.53099    37.64044    37.57815    37.594487   37.5997612\n 37.513659   37.6231799  37.6011372  37.6043076  37.7434632  37.62041\n 37.62275    37.60075    37.602618   37.55936    37.53124    37.4960798\n 37.51531    37.48128    37.5198     37.64784    37.71148    37.64668\n 37.5539     37.6580268  37.665312   37.5943833  37.5977164  37.6699924\n 37.6878922  37.63324    37.51768    37.51517    37.5212331  37.51401\n 37.634688   37.6014341  37.5848176  37.5713646  37.61995    37.64036\n 37.63841    37.595854   37.582947   37.6102521  37.5728133  37.5548583\n 37.7022624  37.60152    37.59469    37.54503    37.5824392  37.7067\n 37.5272596  37.567605   37.584875   37.5877702  37.5504943  37.60758\n 37.5370538  37.5145568  37.5252605  37.6468     37.5907248  37.60339\n 37.5325169  37.605304   37.7188593  37.596613   37.6946714  37.55293\n 37.53027    37.72517    37.76707    37.56728    37.56033    37.53887\n 37.57239    37.5163     37.72217    37.74905    37.67832    37.73058\n 37.64619    37.50749    37.67619    37.58425    37.56821    37.579917\n 37.65773    37.74381    37.5334     37.58131    37.36941    37.63073\n 37.71587    37.57995    37.57197    37.47951    37.45159    37.49285\n 37.46851    37.47848    37.46636    37.47528    37.45492    37.46338\n 37.77215    37.6827     37.67151    37.67847    37.5814     37.53481\n 37.4617     37.54805    37.58773    37.48143    37.46233    37.45657\n 37.50148    37.74343    37.60565    37.65401    37.66183    37.67802\n 37.55876    37.72204    37.56601    37.92649    37.40388    37.55928\n 37.59272    37.4931     37.66486    37.66798    37.60077    37.57578\n 37.46964    37.52396    37.63913    37.74365    37.67557    37.61932\n 37.44567    37.64112    37.647831   37.74715    37.52275    37.86258\n 37.87958    37.54917    37.49941    37.5494     37.52054    37.47375\n 37.50401    37.54483    37.48275    37.56467    37.49858    37.67215\n 37.66159    37.58433    37.58911    37.57535    37.49378    37.51113\n 37.50115    37.66412    37.64815    37.67252    37.62603    37.667\n 37.68568    37.57532    37.5657     37.54114    37.53336    37.63701\n 37.66673    37.637625   37.58558    37.56667    37.40005    37.51421\n 37.5096     37.4906     37.55784    37.4984     37.46714    37.49043\n 37.48332    37.5537     37.57792    37.61299    37.53238    37.48219\n 37.4724     37.50094    37.56251    37.54828    37.75342    37.73179\n 37.77133    37.78222    37.4088     37.39836    37.41832    37.5323146\n 37.49052    37.50917    37.66497    37.6531     37.40886    37.6170397\n 37.61144    37.58956    37.57796    37.6871517  37.71599    37.61109\n 37.60857    37.605      37.59187    37.58652    37.55372    37.58545\n 37.66162    37.53122    37.66318    37.68756    37.76008    37.76336\n 37.73776    37.4775     37.5821     37.65552    37.47143    37.5176\n 37.50913    37.52289    37.52493    37.63723    37.46362    37.70556\n 37.54636    37.5308314  37.54435    37.42109    37.43298    37.76451\n 37.64704    37.41142    37.53601    37.70932    37.5766175  37.63392\n 37.57295    37.6606868  37.63573    37.504052   37.6637295  37.513551\n 37.65628    37.692317   37.6531291  37.60179    37.58965    37.6663363\n 37.603052   37.70985    37.58714    37.6639974  37.61946    37.60605\n 37.46457    37.4831     37.51813    37.48842    37.63407    37.59097\n 37.51926    37.476626   37.305493   37.64044    37.5844     37.519332\n 37.292854   37.51181    37.75102    37.53829    37.449601   37.57763\n 37.68374    37.488404   37.562847   37.298584   37.58997    37.66281\n 37.62213    37.76419    37.65103    37.60484    37.66024    37.69962\n 37.68867    37.59661    37.6135     37.57794    37.5832774  37.54367\n 37.64500854 37.5688179  37.46549655 37.661985   37.63684    37.586121\n 37.6125     37.63945    37.63662    37.63676    37.66305    37.46238\n 37.51757    37.6049     37.70119    37.4954392  37.74951    37.77908\n 37.5513244  37.7303     37.58405    37.761804   37.65559    37.55903\n 37.645943   37.6328433  37.6417277  37.59006    37.56075    37.68087\n 37.67148    37.730724   37.700134   37.715001   37.703544   37.71648\n 37.46727    37.58203    37.58955    37.67814    37.46861    37.35752\n 37.359745   37.373916   37.350457   37.347834   37.416057   37.333513\n 37.350968   37.417873   37.63087    37.639049   37.46111    37.381938\n 37.38348    37.417034   37.69101    37.5602346  37.570347   37.397377\n 37.77507    37.79889    37.51656    37.52469    37.78434    37.81834\n 37.571367   37.354141   37.646354   37.57043    37.639564   37.75168\n 37.66297    37.5476294  37.612874   37.72579    37.58773    37.66363\n 37.8175     37.47185    37.48585    37.68081    37.68158    37.68737\n 37.561135   37.564949   37.5530759  37.5526489  37.67552    37.59605\n 37.591086   37.578774   38.00596    38.026272   37.56306    37.86685\n 37.40771    37.58689    37.752214   37.568664   37.758079   37.80356\n 37.50698    37.53593    37.655531   37.98119    37.47864    37.60628\n 37.745      37.77674    37.34723    37.34411    38.03534    37.51442\n 37.49106    37.58365    38.003      38.00937    38.01557    37.62544\n 37.63519    37.6726     37.610612   37.46173    37.78195    37.79947\n 37.648459   37.614761   37.799385   37.775838   37.809537   37.763454\n 37.789881   37.64114    37.766616   37.60482    37.668229   37.644419\n 37.586947   37.582296   37.646645   37.605598   37.660982   37.593217\n 37.630928   37.718752   37.669834   37.548361   37.487386   37.623085\n 37.640052   37.553015   37.671661   37.713798   37.486241   37.633515\n 37.610026   37.648697   37.584673   37.658075   37.605607   37.897085\n 37.343087   37.325363   37.354009   37.352015   37.356742   37.383955\n 37.392697   37.333071   37.314549   37.364339   37.399812   37.569576\n 37.446906   37.47549    37.395869   37.626187   37.367915   37.584663\n 37.41980541 37.446397   37.4355825  37.423929   37.74701    37.440831\n 37.408845   37.58285    37.679564   37.714144   37.56152    37.610879\n 37.65125    37.799031   37.400279   37.56174   ].",
     "output_type": "error",
     "traceback": [
      "\u001b[1;31m---------------------------------------------------------------------------\u001b[0m",
      "\u001b[1;31mValueError\u001b[0m                                Traceback (most recent call last)",
      "\u001b[1;32mc:\\Users\\sarab\\OneDrive\\Desktop\\Python\\Updated\\model_building.ipynb Cell 22\u001b[0m line \u001b[0;36m4\n\u001b[0;32m      <a href='vscode-notebook-cell:/c%3A/Users/sarab/OneDrive/Desktop/Python/Updated/model_building.ipynb#X33sZmlsZQ%3D%3D?line=0'>1</a>\u001b[0m \u001b[39mimport\u001b[39;00m \u001b[39mstatsmodels\u001b[39;00m\u001b[39m.\u001b[39;00m\u001b[39mapi\u001b[39;00m \u001b[39mas\u001b[39;00m \u001b[39msm\u001b[39;00m\n\u001b[0;32m      <a href='vscode-notebook-cell:/c%3A/Users/sarab/OneDrive/Desktop/Python/Updated/model_building.ipynb#X33sZmlsZQ%3D%3D?line=2'>3</a>\u001b[0m r \u001b[39m=\u001b[39m sm\u001b[39m.\u001b[39madd_constant(r) \u001b[39m# adding a constant\u001b[39;00m\n\u001b[1;32m----> <a href='vscode-notebook-cell:/c%3A/Users/sarab/OneDrive/Desktop/Python/Updated/model_building.ipynb#X33sZmlsZQ%3D%3D?line=3'>4</a>\u001b[0m lin_reg \u001b[39m=\u001b[39m sm\u001b[39m.\u001b[39mOLS(s,r[\u001b[39m'\u001b[39m\u001b[39mlongitude\u001b[39m\u001b[39m'\u001b[39m])\n\u001b[0;32m      <a href='vscode-notebook-cell:/c%3A/Users/sarab/OneDrive/Desktop/Python/Updated/model_building.ipynb#X33sZmlsZQ%3D%3D?line=5'>6</a>\u001b[0m model \u001b[39m=\u001b[39m lin_reg\u001b[39m.\u001b[39mfit()\n\u001b[0;32m      <a href='vscode-notebook-cell:/c%3A/Users/sarab/OneDrive/Desktop/Python/Updated/model_building.ipynb#X33sZmlsZQ%3D%3D?line=6'>7</a>\u001b[0m print_model \u001b[39m=\u001b[39m model\u001b[39m.\u001b[39msummary()\n",
      "File \u001b[1;32mc:\\Users\\sarab\\anaconda3\\Lib\\site-packages\\statsmodels\\regression\\linear_model.py:906\u001b[0m, in \u001b[0;36mOLS.__init__\u001b[1;34m(self, endog, exog, missing, hasconst, **kwargs)\u001b[0m\n\u001b[0;32m    903\u001b[0m     msg \u001b[39m=\u001b[39m (\u001b[39m\"\u001b[39m\u001b[39mWeights are not supported in OLS and will be ignored\u001b[39m\u001b[39m\"\u001b[39m\n\u001b[0;32m    904\u001b[0m            \u001b[39m\"\u001b[39m\u001b[39mAn exception will be raised in the next version.\u001b[39m\u001b[39m\"\u001b[39m)\n\u001b[0;32m    905\u001b[0m     warnings\u001b[39m.\u001b[39mwarn(msg, ValueWarning)\n\u001b[1;32m--> 906\u001b[0m \u001b[39msuper\u001b[39m(OLS, \u001b[39mself\u001b[39m)\u001b[39m.\u001b[39m\u001b[39m__init__\u001b[39m(endog, exog, missing\u001b[39m=\u001b[39mmissing,\n\u001b[0;32m    907\u001b[0m                           hasconst\u001b[39m=\u001b[39mhasconst, \u001b[39m*\u001b[39m\u001b[39m*\u001b[39mkwargs)\n\u001b[0;32m    908\u001b[0m \u001b[39mif\u001b[39;00m \u001b[39m\"\u001b[39m\u001b[39mweights\u001b[39m\u001b[39m\"\u001b[39m \u001b[39min\u001b[39;00m \u001b[39mself\u001b[39m\u001b[39m.\u001b[39m_init_keys:\n\u001b[0;32m    909\u001b[0m     \u001b[39mself\u001b[39m\u001b[39m.\u001b[39m_init_keys\u001b[39m.\u001b[39mremove(\u001b[39m\"\u001b[39m\u001b[39mweights\u001b[39m\u001b[39m\"\u001b[39m)\n",
      "File \u001b[1;32mc:\\Users\\sarab\\anaconda3\\Lib\\site-packages\\statsmodels\\regression\\linear_model.py:733\u001b[0m, in \u001b[0;36mWLS.__init__\u001b[1;34m(self, endog, exog, weights, missing, hasconst, **kwargs)\u001b[0m\n\u001b[0;32m    731\u001b[0m \u001b[39melse\u001b[39;00m:\n\u001b[0;32m    732\u001b[0m     weights \u001b[39m=\u001b[39m weights\u001b[39m.\u001b[39msqueeze()\n\u001b[1;32m--> 733\u001b[0m \u001b[39msuper\u001b[39m(WLS, \u001b[39mself\u001b[39m)\u001b[39m.\u001b[39m\u001b[39m__init__\u001b[39m(endog, exog, missing\u001b[39m=\u001b[39mmissing,\n\u001b[0;32m    734\u001b[0m                           weights\u001b[39m=\u001b[39mweights, hasconst\u001b[39m=\u001b[39mhasconst, \u001b[39m*\u001b[39m\u001b[39m*\u001b[39mkwargs)\n\u001b[0;32m    735\u001b[0m nobs \u001b[39m=\u001b[39m \u001b[39mself\u001b[39m\u001b[39m.\u001b[39mexog\u001b[39m.\u001b[39mshape[\u001b[39m0\u001b[39m]\n\u001b[0;32m    736\u001b[0m weights \u001b[39m=\u001b[39m \u001b[39mself\u001b[39m\u001b[39m.\u001b[39mweights\n",
      "File \u001b[1;32mc:\\Users\\sarab\\anaconda3\\Lib\\site-packages\\statsmodels\\regression\\linear_model.py:190\u001b[0m, in \u001b[0;36mRegressionModel.__init__\u001b[1;34m(self, endog, exog, **kwargs)\u001b[0m\n\u001b[0;32m    189\u001b[0m \u001b[39mdef\u001b[39;00m \u001b[39m__init__\u001b[39m(\u001b[39mself\u001b[39m, endog, exog, \u001b[39m*\u001b[39m\u001b[39m*\u001b[39mkwargs):\n\u001b[1;32m--> 190\u001b[0m     \u001b[39msuper\u001b[39m(RegressionModel, \u001b[39mself\u001b[39m)\u001b[39m.\u001b[39m\u001b[39m__init__\u001b[39m(endog, exog, \u001b[39m*\u001b[39m\u001b[39m*\u001b[39mkwargs)\n\u001b[0;32m    191\u001b[0m     \u001b[39mself\u001b[39m\u001b[39m.\u001b[39m_data_attr\u001b[39m.\u001b[39mextend([\u001b[39m'\u001b[39m\u001b[39mpinv_wexog\u001b[39m\u001b[39m'\u001b[39m, \u001b[39m'\u001b[39m\u001b[39mwendog\u001b[39m\u001b[39m'\u001b[39m, \u001b[39m'\u001b[39m\u001b[39mwexog\u001b[39m\u001b[39m'\u001b[39m, \u001b[39m'\u001b[39m\u001b[39mweights\u001b[39m\u001b[39m'\u001b[39m])\n",
      "File \u001b[1;32mc:\\Users\\sarab\\anaconda3\\Lib\\site-packages\\statsmodels\\base\\model.py:267\u001b[0m, in \u001b[0;36mLikelihoodModel.__init__\u001b[1;34m(self, endog, exog, **kwargs)\u001b[0m\n\u001b[0;32m    266\u001b[0m \u001b[39mdef\u001b[39;00m \u001b[39m__init__\u001b[39m(\u001b[39mself\u001b[39m, endog, exog\u001b[39m=\u001b[39m\u001b[39mNone\u001b[39;00m, \u001b[39m*\u001b[39m\u001b[39m*\u001b[39mkwargs):\n\u001b[1;32m--> 267\u001b[0m     \u001b[39msuper\u001b[39m()\u001b[39m.\u001b[39m\u001b[39m__init__\u001b[39m(endog, exog, \u001b[39m*\u001b[39m\u001b[39m*\u001b[39mkwargs)\n\u001b[0;32m    268\u001b[0m     \u001b[39mself\u001b[39m\u001b[39m.\u001b[39minitialize()\n",
      "File \u001b[1;32mc:\\Users\\sarab\\anaconda3\\Lib\\site-packages\\statsmodels\\base\\model.py:92\u001b[0m, in \u001b[0;36mModel.__init__\u001b[1;34m(self, endog, exog, **kwargs)\u001b[0m\n\u001b[0;32m     90\u001b[0m missing \u001b[39m=\u001b[39m kwargs\u001b[39m.\u001b[39mpop(\u001b[39m'\u001b[39m\u001b[39mmissing\u001b[39m\u001b[39m'\u001b[39m, \u001b[39m'\u001b[39m\u001b[39mnone\u001b[39m\u001b[39m'\u001b[39m)\n\u001b[0;32m     91\u001b[0m hasconst \u001b[39m=\u001b[39m kwargs\u001b[39m.\u001b[39mpop(\u001b[39m'\u001b[39m\u001b[39mhasconst\u001b[39m\u001b[39m'\u001b[39m, \u001b[39mNone\u001b[39;00m)\n\u001b[1;32m---> 92\u001b[0m \u001b[39mself\u001b[39m\u001b[39m.\u001b[39mdata \u001b[39m=\u001b[39m \u001b[39mself\u001b[39m\u001b[39m.\u001b[39m_handle_data(endog, exog, missing, hasconst,\n\u001b[0;32m     93\u001b[0m                               \u001b[39m*\u001b[39m\u001b[39m*\u001b[39mkwargs)\n\u001b[0;32m     94\u001b[0m \u001b[39mself\u001b[39m\u001b[39m.\u001b[39mk_constant \u001b[39m=\u001b[39m \u001b[39mself\u001b[39m\u001b[39m.\u001b[39mdata\u001b[39m.\u001b[39mk_constant\n\u001b[0;32m     95\u001b[0m \u001b[39mself\u001b[39m\u001b[39m.\u001b[39mexog \u001b[39m=\u001b[39m \u001b[39mself\u001b[39m\u001b[39m.\u001b[39mdata\u001b[39m.\u001b[39mexog\n",
      "File \u001b[1;32mc:\\Users\\sarab\\anaconda3\\Lib\\site-packages\\statsmodels\\base\\model.py:132\u001b[0m, in \u001b[0;36mModel._handle_data\u001b[1;34m(self, endog, exog, missing, hasconst, **kwargs)\u001b[0m\n\u001b[0;32m    131\u001b[0m \u001b[39mdef\u001b[39;00m \u001b[39m_handle_data\u001b[39m(\u001b[39mself\u001b[39m, endog, exog, missing, hasconst, \u001b[39m*\u001b[39m\u001b[39m*\u001b[39mkwargs):\n\u001b[1;32m--> 132\u001b[0m     data \u001b[39m=\u001b[39m handle_data(endog, exog, missing, hasconst, \u001b[39m*\u001b[39m\u001b[39m*\u001b[39mkwargs)\n\u001b[0;32m    133\u001b[0m     \u001b[39m# kwargs arrays could have changed, easier to just attach here\u001b[39;00m\n\u001b[0;32m    134\u001b[0m     \u001b[39mfor\u001b[39;00m key \u001b[39min\u001b[39;00m kwargs:\n",
      "File \u001b[1;32mc:\\Users\\sarab\\anaconda3\\Lib\\site-packages\\statsmodels\\base\\data.py:700\u001b[0m, in \u001b[0;36mhandle_data\u001b[1;34m(endog, exog, missing, hasconst, **kwargs)\u001b[0m\n\u001b[0;32m    697\u001b[0m     exog \u001b[39m=\u001b[39m np\u001b[39m.\u001b[39masarray(exog)\n\u001b[0;32m    699\u001b[0m klass \u001b[39m=\u001b[39m handle_data_class_factory(endog, exog)\n\u001b[1;32m--> 700\u001b[0m \u001b[39mreturn\u001b[39;00m klass(endog, exog\u001b[39m=\u001b[39mexog, missing\u001b[39m=\u001b[39mmissing, hasconst\u001b[39m=\u001b[39mhasconst,\n\u001b[0;32m    701\u001b[0m              \u001b[39m*\u001b[39m\u001b[39m*\u001b[39mkwargs)\n",
      "File \u001b[1;32mc:\\Users\\sarab\\anaconda3\\Lib\\site-packages\\statsmodels\\base\\data.py:84\u001b[0m, in \u001b[0;36mModelData.__init__\u001b[1;34m(self, endog, exog, missing, hasconst, **kwargs)\u001b[0m\n\u001b[0;32m     82\u001b[0m     \u001b[39mself\u001b[39m\u001b[39m.\u001b[39morig_endog \u001b[39m=\u001b[39m endog\n\u001b[0;32m     83\u001b[0m     \u001b[39mself\u001b[39m\u001b[39m.\u001b[39morig_exog \u001b[39m=\u001b[39m exog\n\u001b[1;32m---> 84\u001b[0m     \u001b[39mself\u001b[39m\u001b[39m.\u001b[39mendog, \u001b[39mself\u001b[39m\u001b[39m.\u001b[39mexog \u001b[39m=\u001b[39m \u001b[39mself\u001b[39m\u001b[39m.\u001b[39m_convert_endog_exog(endog, exog)\n\u001b[0;32m     86\u001b[0m \u001b[39mself\u001b[39m\u001b[39m.\u001b[39mconst_idx \u001b[39m=\u001b[39m \u001b[39mNone\u001b[39;00m\n\u001b[0;32m     87\u001b[0m \u001b[39mself\u001b[39m\u001b[39m.\u001b[39mk_constant \u001b[39m=\u001b[39m \u001b[39m0\u001b[39m\n",
      "File \u001b[1;32mc:\\Users\\sarab\\anaconda3\\Lib\\site-packages\\statsmodels\\base\\data.py:530\u001b[0m, in \u001b[0;36mPandasData._convert_endog_exog\u001b[1;34m(self, endog, exog)\u001b[0m\n\u001b[0;32m    528\u001b[0m     \u001b[39melse\u001b[39;00m:\n\u001b[0;32m    529\u001b[0m         exog_dtype \u001b[39m=\u001b[39m \u001b[39mNone\u001b[39;00m\n\u001b[1;32m--> 530\u001b[0m     \u001b[39mraise\u001b[39;00m \u001b[39mValueError\u001b[39;00m(\n\u001b[0;32m    531\u001b[0m         \u001b[39m\"\u001b[39m\u001b[39mPandas data cast to numpy dtype of object. Check input data \u001b[39m\u001b[39m\"\u001b[39m\n\u001b[0;32m    532\u001b[0m         \u001b[39m\"\u001b[39m\u001b[39mwith np.asarray(data). The types seen were\u001b[39m\u001b[39m\"\u001b[39m\n\u001b[0;32m    533\u001b[0m         \u001b[39mf\u001b[39m\u001b[39m\"\u001b[39m\u001b[39m{\u001b[39;00mendog_dtype\u001b[39m}\u001b[39;00m\u001b[39m and \u001b[39m\u001b[39m{\u001b[39;00mexog_dtype\u001b[39m}\u001b[39;00m\u001b[39m. The data was\u001b[39m\u001b[39m\\n\u001b[39;00m\u001b[39m\"\u001b[39m\n\u001b[0;32m    534\u001b[0m         \u001b[39mf\u001b[39m\u001b[39m\"\u001b[39m\u001b[39m{\u001b[39;00morig_endog\u001b[39m}\u001b[39;00m\u001b[39m\\n\u001b[39;00m\u001b[39mand\u001b[39m\u001b[39m\\n\u001b[39;00m\u001b[39m \u001b[39m\u001b[39m{\u001b[39;00morig_exog\u001b[39m}\u001b[39;00m\u001b[39m\\n\u001b[39;00m\u001b[39mbefore. After,\u001b[39m\u001b[39m\\n\u001b[39;00m\u001b[39m{\u001b[39;00mendog\u001b[39m}\u001b[39;00m\u001b[39m\\n\u001b[39;00m\u001b[39m{\u001b[39;00mexog\u001b[39m}\u001b[39;00m\u001b[39m.\u001b[39m\u001b[39m\"\u001b[39m\n\u001b[0;32m    535\u001b[0m     )\n\u001b[0;32m    536\u001b[0m \u001b[39mreturn\u001b[39;00m \u001b[39msuper\u001b[39m(PandasData, \u001b[39mself\u001b[39m)\u001b[39m.\u001b[39m_convert_endog_exog(endog, exog)\n",
      "\u001b[1;31mValueError\u001b[0m: Pandas data cast to numpy dtype of object. Check input data with np.asarray(data). The types seen wereNeighbourhood Latitude     float64\nNeighbourhood Longitude    float64\nVenue Distance               int64\nVenue Name                  object\ndtype: object and None. The data was\n    Neighbourhood Latitude  Neighbourhood Longitude  Venue Distance  \\\n0                55.744901                37.602018             270   \n1                55.744901                37.602018             147   \n2                55.744901                37.602018             251   \n3                55.744901                37.602018             262   \n4                55.744901                37.602018             297   \n5                55.744901                37.602018             325   \n6                55.744901                37.602018             337   \n7                55.744901                37.602018             347   \n8                55.744901                37.602018             426   \n9                55.744901                37.602018             435   \n10               55.744901                37.602018             446   \n11               55.744901                37.602018             446   \n12               55.744901                37.602018             464   \n13               55.744901                37.602018             503   \n\n    Venue Name  \n0         Park  \n1   Playground  \n2         Park  \n3   Playground  \n4         Park  \n5         Park  \n6   Playground  \n7   Playground  \n8         Park  \n9         Park  \n10  Playground  \n11        Park  \n12  Playground  \n13  Playground  \nand\n 0      37.602018\n1      37.520553\n2      37.592390\n3      37.614473\n4      37.604464\n         ...    \n773    37.610879\n774    37.651250\n775    37.799031\n776    37.400279\n777    37.561740\nName: longitude, Length: 778, dtype: float64\nbefore. After,\n[[55.7449006 37.6020183 270 'Park']\n [55.7449006 37.6020183 147 'Playground']\n [55.7449006 37.6020183 251 'Park']\n [55.7449006 37.6020183 262 'Playground']\n [55.7449006 37.6020183 297 'Park']\n [55.7449006 37.6020183 325 'Park']\n [55.7449006 37.6020183 337 'Playground']\n [55.7449006 37.6020183 347 'Playground']\n [55.7449006 37.6020183 426 'Park']\n [55.7449006 37.6020183 435 'Park']\n [55.7449006 37.6020183 446 'Playground']\n [55.7449006 37.6020183 446 'Park']\n [55.7449006 37.6020183 464 'Playground']\n [55.7449006 37.6020183 503 'Playground']]\n[37.6020183  37.5205529  37.59239    37.6144726  37.6044645  37.609836\n 37.60059278 37.6086772  37.601473   37.6052356  37.60948944 37.6316201\n 37.645665   37.64735028 37.6257601  37.596925   37.58986389 37.5864\n 37.58348611 37.57798889 37.56952222 37.5937289  37.583821   37.579058\n 37.575858   37.581356   37.580778   37.569297   37.559608   37.570481\n 37.614186   37.632814   37.5905396  37.6225279  37.6290169  37.6334722\n 37.6347031  37.6365455  37.5765806  37.6465038  37.6591375  37.6225146\n 37.572725   37.6320952  37.5393069  37.6066403  37.5953863  37.5268164\n 37.5341468  37.604728   37.5775101  37.565242   37.6248436  37.545765\n 37.576594   37.564743   37.562443   37.561994   37.632794   37.634929\n 37.62838    37.6086074  37.6195157  37.5622227  37.5838691  37.5201069\n 37.5326129  37.6080312  37.5389143  37.5595989  37.60962    37.523769\n 37.59311    37.5529893  37.5639941  37.5820766  37.4953587  37.6163822\n 37.6317848  37.6393391  37.647529   37.6541501  37.623526   37.5802\n 37.5805768  37.5942708  37.6010653  37.617075   37.6391911  37.6159792\n 37.6265178  37.6333164  37.645458   37.6331175  37.5192587  37.539523\n 37.5629419  37.5710478  37.6079968  37.56871    37.6089126  37.6023012\n 37.5897749  37.5741987  37.6048252  37.5999825  37.641671   37.5006237\n 37.641517   37.657647   37.6158903  37.5959992  37.6182931  37.6414493\n 37.616547   37.6101276  37.656429   37.6520953  37.5997037  37.5745946\n 37.642574   37.535522   37.526472   37.541377   37.554776   37.540695\n 37.5701523  37.557668   37.5529925  37.5397093  37.6095579  37.6299313\n 37.6168972  37.65385    37.5708842  37.5719413  37.5145855  37.5880136\n 37.53454    37.5372313  37.6057778  37.579688   37.5300029  37.6599869\n 37.6944615  37.6994467  37.6363469  37.6661093  37.6376553  37.6788565\n 37.635781   37.6220242  37.615425   37.6197354  37.663779   37.5382933\n 37.5212052  37.647211   37.612442   37.520142   37.6002618  37.5757323\n 37.5605165  37.6571565  37.5517684  37.5465367  37.5861519  37.6046504\n 37.612528   37.6429131  37.5730793  37.543724   37.61731    37.558939\n 37.6192664  37.587921   37.5942492  37.622305   37.576753   37.528489\n 37.522672   37.6090521  37.58823    37.594296   37.543148   37.638913\n 37.514291   37.530847   37.5457088  37.56551    37.5830376  37.5256107\n 37.6763299  37.5963795  37.621316   37.6374584  37.49521    37.6501702\n 37.6042362  37.6341961  37.6250142  37.599867   37.631618   37.639141\n 37.584725   37.6178259  37.62786    37.589078   37.6167027  37.648355\n 37.636329   37.598667   37.613347   37.615807   37.625638   37.5852946\n 37.576903   37.620018   37.6223722  37.599413   37.6202     37.550435\n 37.623177   37.57797    37.56245    37.586215   37.592209   37.535463\n 37.533756   37.5776708  37.6386809  37.5870704  37.5841     37.621486\n 37.6212721  37.6358074  37.5455944  37.6116459  37.5896349  37.6286203\n 37.6276564  37.6121883  37.53978    37.52036    37.54216    37.5655623\n 37.5073382  37.530764   37.529704   37.6080592  37.5943736  37.56091\n 37.5890604  37.5159465  37.55366    37.5072476  37.5521608  37.54917\n 37.649046   37.5492     37.59244    37.55135    37.6142074  37.506187\n 37.5683739  37.684929   37.5916535  37.670731   37.4960883  37.49611\n 37.53766    37.53099    37.64044    37.57815    37.594487   37.5997612\n 37.513659   37.6231799  37.6011372  37.6043076  37.7434632  37.62041\n 37.62275    37.60075    37.602618   37.55936    37.53124    37.4960798\n 37.51531    37.48128    37.5198     37.64784    37.71148    37.64668\n 37.5539     37.6580268  37.665312   37.5943833  37.5977164  37.6699924\n 37.6878922  37.63324    37.51768    37.51517    37.5212331  37.51401\n 37.634688   37.6014341  37.5848176  37.5713646  37.61995    37.64036\n 37.63841    37.595854   37.582947   37.6102521  37.5728133  37.5548583\n 37.7022624  37.60152    37.59469    37.54503    37.5824392  37.7067\n 37.5272596  37.567605   37.584875   37.5877702  37.5504943  37.60758\n 37.5370538  37.5145568  37.5252605  37.6468     37.5907248  37.60339\n 37.5325169  37.605304   37.7188593  37.596613   37.6946714  37.55293\n 37.53027    37.72517    37.76707    37.56728    37.56033    37.53887\n 37.57239    37.5163     37.72217    37.74905    37.67832    37.73058\n 37.64619    37.50749    37.67619    37.58425    37.56821    37.579917\n 37.65773    37.74381    37.5334     37.58131    37.36941    37.63073\n 37.71587    37.57995    37.57197    37.47951    37.45159    37.49285\n 37.46851    37.47848    37.46636    37.47528    37.45492    37.46338\n 37.77215    37.6827     37.67151    37.67847    37.5814     37.53481\n 37.4617     37.54805    37.58773    37.48143    37.46233    37.45657\n 37.50148    37.74343    37.60565    37.65401    37.66183    37.67802\n 37.55876    37.72204    37.56601    37.92649    37.40388    37.55928\n 37.59272    37.4931     37.66486    37.66798    37.60077    37.57578\n 37.46964    37.52396    37.63913    37.74365    37.67557    37.61932\n 37.44567    37.64112    37.647831   37.74715    37.52275    37.86258\n 37.87958    37.54917    37.49941    37.5494     37.52054    37.47375\n 37.50401    37.54483    37.48275    37.56467    37.49858    37.67215\n 37.66159    37.58433    37.58911    37.57535    37.49378    37.51113\n 37.50115    37.66412    37.64815    37.67252    37.62603    37.667\n 37.68568    37.57532    37.5657     37.54114    37.53336    37.63701\n 37.66673    37.637625   37.58558    37.56667    37.40005    37.51421\n 37.5096     37.4906     37.55784    37.4984     37.46714    37.49043\n 37.48332    37.5537     37.57792    37.61299    37.53238    37.48219\n 37.4724     37.50094    37.56251    37.54828    37.75342    37.73179\n 37.77133    37.78222    37.4088     37.39836    37.41832    37.5323146\n 37.49052    37.50917    37.66497    37.6531     37.40886    37.6170397\n 37.61144    37.58956    37.57796    37.6871517  37.71599    37.61109\n 37.60857    37.605      37.59187    37.58652    37.55372    37.58545\n 37.66162    37.53122    37.66318    37.68756    37.76008    37.76336\n 37.73776    37.4775     37.5821     37.65552    37.47143    37.5176\n 37.50913    37.52289    37.52493    37.63723    37.46362    37.70556\n 37.54636    37.5308314  37.54435    37.42109    37.43298    37.76451\n 37.64704    37.41142    37.53601    37.70932    37.5766175  37.63392\n 37.57295    37.6606868  37.63573    37.504052   37.6637295  37.513551\n 37.65628    37.692317   37.6531291  37.60179    37.58965    37.6663363\n 37.603052   37.70985    37.58714    37.6639974  37.61946    37.60605\n 37.46457    37.4831     37.51813    37.48842    37.63407    37.59097\n 37.51926    37.476626   37.305493   37.64044    37.5844     37.519332\n 37.292854   37.51181    37.75102    37.53829    37.449601   37.57763\n 37.68374    37.488404   37.562847   37.298584   37.58997    37.66281\n 37.62213    37.76419    37.65103    37.60484    37.66024    37.69962\n 37.68867    37.59661    37.6135     37.57794    37.5832774  37.54367\n 37.64500854 37.5688179  37.46549655 37.661985   37.63684    37.586121\n 37.6125     37.63945    37.63662    37.63676    37.66305    37.46238\n 37.51757    37.6049     37.70119    37.4954392  37.74951    37.77908\n 37.5513244  37.7303     37.58405    37.761804   37.65559    37.55903\n 37.645943   37.6328433  37.6417277  37.59006    37.56075    37.68087\n 37.67148    37.730724   37.700134   37.715001   37.703544   37.71648\n 37.46727    37.58203    37.58955    37.67814    37.46861    37.35752\n 37.359745   37.373916   37.350457   37.347834   37.416057   37.333513\n 37.350968   37.417873   37.63087    37.639049   37.46111    37.381938\n 37.38348    37.417034   37.69101    37.5602346  37.570347   37.397377\n 37.77507    37.79889    37.51656    37.52469    37.78434    37.81834\n 37.571367   37.354141   37.646354   37.57043    37.639564   37.75168\n 37.66297    37.5476294  37.612874   37.72579    37.58773    37.66363\n 37.8175     37.47185    37.48585    37.68081    37.68158    37.68737\n 37.561135   37.564949   37.5530759  37.5526489  37.67552    37.59605\n 37.591086   37.578774   38.00596    38.026272   37.56306    37.86685\n 37.40771    37.58689    37.752214   37.568664   37.758079   37.80356\n 37.50698    37.53593    37.655531   37.98119    37.47864    37.60628\n 37.745      37.77674    37.34723    37.34411    38.03534    37.51442\n 37.49106    37.58365    38.003      38.00937    38.01557    37.62544\n 37.63519    37.6726     37.610612   37.46173    37.78195    37.79947\n 37.648459   37.614761   37.799385   37.775838   37.809537   37.763454\n 37.789881   37.64114    37.766616   37.60482    37.668229   37.644419\n 37.586947   37.582296   37.646645   37.605598   37.660982   37.593217\n 37.630928   37.718752   37.669834   37.548361   37.487386   37.623085\n 37.640052   37.553015   37.671661   37.713798   37.486241   37.633515\n 37.610026   37.648697   37.584673   37.658075   37.605607   37.897085\n 37.343087   37.325363   37.354009   37.352015   37.356742   37.383955\n 37.392697   37.333071   37.314549   37.364339   37.399812   37.569576\n 37.446906   37.47549    37.395869   37.626187   37.367915   37.584663\n 37.41980541 37.446397   37.4355825  37.423929   37.74701    37.440831\n 37.408845   37.58285    37.679564   37.714144   37.56152    37.610879\n 37.65125    37.799031   37.400279   37.56174   ]."
     ]
    }
   ],
   "source": [
    "import statsmodels.api as sm\n",
    "\n",
    "r = sm.add_constant(r) # adding a constant\n",
    "lin_reg = sm.OLS(s,r['longitude'])\n",
    "\n",
    "model = lin_reg.fit()\n",
    "print_model = model.summary()\n",
    "print(print_model)"
   ]
  },
  {
   "cell_type": "markdown",
   "metadata": {},
   "source": [
    "# Stretch"
   ]
  },
  {
   "cell_type": "markdown",
   "metadata": {},
   "source": [
    "How can you turn the regression model into a classification model?"
   ]
  },
  {
   "cell_type": "code",
   "execution_count": null,
   "metadata": {},
   "outputs": [],
   "source": []
  }
 ],
 "metadata": {
  "kernelspec": {
   "display_name": "Python 3",
   "language": "python",
   "name": "python3"
  },
  "language_info": {
   "codemirror_mode": {
    "name": "ipython",
    "version": 3
   },
   "file_extension": ".py",
   "mimetype": "text/x-python",
   "name": "python",
   "nbconvert_exporter": "python",
   "pygments_lexer": "ipython3",
   "version": "3.11.3"
  }
 },
 "nbformat": 4,
 "nbformat_minor": 4
}
